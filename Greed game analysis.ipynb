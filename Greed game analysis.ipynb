{
 "cells": [
  {
   "cell_type": "code",
   "execution_count": 58,
   "metadata": {},
   "outputs": [
    {
     "data": {
      "text/plain": [
       "[1, 1, 1, 1, 1, 2, 3, 5, 5, 6]"
      ]
     },
     "execution_count": 58,
     "metadata": {},
     "output_type": "execute_result"
    }
   ],
   "source": [
    "import random\n",
    "\n",
    "roll = [random.randint(1,6) for _ in range(10)]\n",
    "roll.sort()\n",
    "roll"
   ]
  },
  {
   "cell_type": "code",
   "execution_count": 59,
   "metadata": {},
   "outputs": [],
   "source": [
    "from collections import Counter\n",
    "def score(roll):\n",
    "    counts = Counter(roll)\n",
    "    total = 0\n",
    "    triple_score = {k:v for (k,v) in zip(range(1,7),[1000]+[i*100 for i in range(2,7)])}\n",
    "    for triple in triple_score.keys():\n",
    "        while counts[triple] >= 3:\n",
    "            total += triple_score[triple]\n",
    "            counts[triple] -= 3\n",
    "    \n",
    "    total += counts[1]*100\n",
    "    total += counts[5]*50\n",
    "    \n",
    "    return total"
   ]
  },
  {
   "cell_type": "code",
   "execution_count": 60,
   "metadata": {},
   "outputs": [
    {
     "data": {
      "text/plain": [
       "1300"
      ]
     },
     "execution_count": 60,
     "metadata": {},
     "output_type": "execute_result"
    }
   ],
   "source": [
    "score(roll)"
   ]
  },
  {
   "cell_type": "code",
   "execution_count": 61,
   "metadata": {},
   "outputs": [
    {
     "data": {
      "text/plain": [
       "828.833"
      ]
     },
     "execution_count": 61,
     "metadata": {},
     "output_type": "execute_result"
    }
   ],
   "source": [
    "avg_total = 0.0\n",
    "avg_count = int(1e5)\n",
    "for _ in range(avg_count):\n",
    "    roll = [random.randint(1,6) for _ in range(10)]\n",
    "    avg_total += score(roll)\n",
    "avg = avg_total/avg_count\n",
    "avg"
   ]
  },
  {
   "cell_type": "code",
   "execution_count": 62,
   "metadata": {
    "collapsed": true
   },
   "outputs": [],
   "source": [
    "scores = [score([random.randint(1,6) for _ in range(10)]) for _ in range(int(1e6))]"
   ]
  },
  {
   "cell_type": "code",
   "execution_count": 63,
   "metadata": {},
   "outputs": [
    {
     "data": {
      "image/png": "[encoded data removed]",
      "text/plain": [
       "<matplotlib.figure.Figure at 0x10e313f60>"
      ]
     },
     "metadata": {},
     "output_type": "display_data"
    },
    {
     "data": {
      "text/plain": [
       "<matplotlib.figure.Figure at 0x10e3137b8>"
      ]
     },
     "metadata": {},
     "output_type": "display_data"
    }
   ],
   "source": [
    "import matplotlib.pyplot as plt\n",
    "plt.hist(scores,bins=100)\n",
    "plt.figure(figsize=(20,6))\n",
    "plt.show()"
   ]
  },
  {
   "cell_type": "code",
   "execution_count": 64,
   "metadata": {},
   "outputs": [
    {
     "name": "stdout",
     "output_type": "stream",
     "text": [
      "700 74356\n",
      "600 70207\n",
      "500 57411\n",
      "800 56474\n",
      "1100 54525\n",
      "900 47639\n",
      "650 43626\n",
      "300 42358\n",
      "550 41501\n",
      "750 39885\n",
      "400 38140\n",
      "450 37410\n",
      "1200 35741\n",
      "1000 34363\n",
      "1050 34237\n",
      "850 33839\n",
      "1500 23651\n",
      "1150 23370\n",
      "1300 22559\n",
      "350 19488\n"
     ]
    }
   ],
   "source": [
    "from __future__ import print_function\n",
    "score_count = Counter(scores)\n",
    "sorted_score_count = sorted(score_count, key=score_count.get, reverse=True)\n",
    "for w in sorted_score_count[0:20]:\n",
    "    print (w, score_count[w])"
   ]
  },
  {
   "cell_type": "code",
   "execution_count": 65,
   "metadata": {},
   "outputs": [
    {
     "data": {
      "image/png": "[encoded data removed]",
      "text/plain": [
       "<matplotlib.figure.Figure at 0x1102349e8>"
      ]
     },
     "metadata": {},
     "output_type": "display_data"
    },
    {
     "data": {
      "text/plain": [
       "<matplotlib.figure.Figure at 0x110234b38>"
      ]
     },
     "metadata": {},
     "output_type": "display_data"
    }
   ],
   "source": [
    "plt.hist(scores,bins=100,cumulative=1)\n",
    "plt.figure(figsize=(20,6))\n",
    "plt.show()"
   ]
  },
  {
   "cell_type": "code",
   "execution_count": 66,
   "metadata": {},
   "outputs": [
    {
     "data": {
      "text/plain": [
       "0.33836"
      ]
     },
     "execution_count": 66,
     "metadata": {},
     "output_type": "execute_result"
    }
   ],
   "source": [
    "sum([1 for s in scores if s >= 1000])/len(scores)"
   ]
  },
  {
   "cell_type": "code",
   "execution_count": null,
   "metadata": {
    "collapsed": true
   },
   "outputs": [],
   "source": [
    "sorted_score_count = sorted(score_count, key=score_count.get, reverse=True)"
   ]
  },
  {
   "cell_type": "code",
   "execution_count": 68,
   "metadata": {},
   "outputs": [
    {
     "data": {
      "text/plain": [
       "[(3000, 2),\n",
       " (2700, 2),\n",
       " (2650, 11),\n",
       " (2600, 45),\n",
       " (2550, 3),\n",
       " (2500, 50),\n",
       " (2450, 11),\n",
       " (2400, 38),\n",
       " (2350, 14),\n",
       " (2300, 49),\n",
       " (2250, 34),\n",
       " (2200, 176),\n",
       " (2150, 161),\n",
       " (2100, 1395),\n",
       " (2050, 1117),\n",
       " (2000, 1547),\n",
       " (1950, 370),\n",
       " (1900, 1847),\n",
       " (1850, 607),\n",
       " (1800, 2966),\n",
       " (1750, 2626),\n",
       " (1700, 9111),\n",
       " (1650, 10107),\n",
       " (1600, 13099),\n",
       " (1550, 6877),\n",
       " (1500, 23651),\n",
       " (1450, 11540),\n",
       " (1400, 15500),\n",
       " (1350, 12380),\n",
       " (1300, 22559),\n",
       " (1250, 18229),\n",
       " (1200, 35741),\n",
       " (1150, 23370),\n",
       " (1100, 54525),\n",
       " (1050, 34237),\n",
       " (1000, 34363),\n",
       " (950, 17021),\n",
       " (900, 47639),\n",
       " (850, 33839),\n",
       " (800, 56474),\n",
       " (750, 39885),\n",
       " (700, 74356),\n",
       " (650, 43626),\n",
       " (600, 70207),\n",
       " (550, 41501),\n",
       " (500, 57411),\n",
       " (450, 37410),\n",
       " (400, 38140),\n",
       " (350, 19488),\n",
       " (300, 42358),\n",
       " (250, 18956),\n",
       " (200, 17754),\n",
       " (150, 3665),\n",
       " (100, 1910)]"
      ]
     },
     "execution_count": 68,
     "metadata": {},
     "output_type": "execute_result"
    }
   ],
   "source": [
    "sorted(score_count.items(), reverse=True)"
   ]
  },
  {
   "cell_type": "code",
   "execution_count": 76,
   "metadata": {},
   "outputs": [
    {
     "data": {
      "text/plain": [
       "[([1], True),\n",
       " ([2], False),\n",
       " ([3, 3, 3], True),\n",
       " ([3], False),\n",
       " ([4], False),\n",
       " ([4, 4, 4, 6], True),\n",
       " ([1, 2, 3], True)]"
      ]
     },
     "execution_count": 76,
     "metadata": {},
     "output_type": "execute_result"
    }
   ],
   "source": [
    "def get_roll(n_dice):\n",
    "    return [random.randint(1,6) for _ in range(n_dice)]\n",
    "def does_live(roll):\n",
    "    if 1 in roll or 5 in roll: return True\n",
    "    counts = Counter(roll)\n",
    "    for number in counts:\n",
    "        if counts[number] > 2: return True\n",
    "    return False\n",
    "\n",
    "test_rolls = [[1],[2],[3,3,3],[3],[4],[4,4,4,6],[1,2,3]]\n",
    "[(roll, does_live(roll)) for roll in test_rolls]"
   ]
  },
  {
   "cell_type": "code",
   "execution_count": 80,
   "metadata": {},
   "outputs": [
    {
     "name": "stdout",
     "output_type": "stream",
     "text": [
      "P(live|1) = 0.33192\n",
      "P(live|2) = 0.55732\n",
      "P(live|3) = 0.7251\n",
      "P(live|4) = 0.84173\n",
      "P(live|5) = 0.92154\n",
      "P(live|6) = 0.96919\n",
      "P(live|7) = 0.99123\n",
      "P(live|8) = 0.99846\n",
      "P(live|9) = 1.0\n",
      "P(live|10) = 1.0\n",
      "CPU times: user 8.34 s, sys: 17.5 ms, total: 8.36 s\n",
      "Wall time: 8.36 s\n"
     ]
    }
   ],
   "source": [
    "%%time\n",
    "prob_live = dict()\n",
    "for num_dice in range(1,11):\n",
    "    num_rolls = 100000\n",
    "    num_lives = 0\n",
    "    for _ in range(num_rolls):\n",
    "        roll = get_roll(num_dice)\n",
    "        if does_live(roll): num_lives += 1\n",
    "    prob_live[num_dice] = float(num_lives)/num_rolls\n",
    "\n",
    "for key in sorted(prob_live, key=prob_live.get, reverse=False):\n",
    "    print('P(live|%s) = %s' % (key,prob_live[key]))"
   ]
  },
  {
   "cell_type": "code",
   "execution_count": 89,
   "metadata": {},
   "outputs": [
    {
     "name": "stdout",
     "output_type": "stream",
     "text": [
      "EV(1 dice) = 24.93 \t EV(1 dice|does_live) = 75.02 \t EV*P(live) = 75.09\n",
      "EV(2 dice) = 49.74 \t EV(2 dice|does_live) = 89.85 \t EV*P(live) = 89.25\n",
      "EV(3 dice) = 86.34 \t EV(3 dice|does_live) = 119.65 \t EV*P(live) = 119.08\n",
      "EV(4 dice) = 141.09 \t EV(4 dice|does_live) = 167.65 \t EV*P(live) = 167.62\n",
      "EV(5 dice) = 214.67 \t EV(5 dice|does_live) = 232.41 \t EV*P(live) = 232.95\n",
      "EV(6 dice) = 309.01 \t EV(6 dice|does_live) = 318.67 \t EV*P(live) = 318.83\n",
      "EV(7 dice) = 419.24 \t EV(7 dice|does_live) = 423.07 \t EV*P(live) = 422.95\n",
      "EV(8 dice) = 546.05 \t EV(8 dice|does_live) = 547.04 \t EV*P(live) = 546.89\n",
      "EV(9 dice) = 684.59 \t EV(9 dice|does_live) = 684.59 \t EV*P(live) = 684.59\n",
      "EV(10 dice) = 828.84 \t EV(10 dice|does_live) = 828.84 \t EV*P(live) = 828.84\n",
      "CPU times: user 16.2 s, sys: 29.9 ms, total: 16.2 s\n",
      "Wall time: 16.2 s\n"
     ]
    }
   ],
   "source": [
    "%%time\n",
    "ev = dict()\n",
    "ev_live = dict()\n",
    "\n",
    "for num_dice in range(1,11):\n",
    "    num_rolls = 100000\n",
    "    avg_total = 0.0\n",
    "    num_live_rolls = 0\n",
    "    avg_live_total = 0.0\n",
    "    for _ in range(num_rolls):\n",
    "        roll = get_roll(num_dice)\n",
    "        roll_score = score(roll)\n",
    "        avg_total += roll_score\n",
    "        if does_live(roll):\n",
    "            num_live_rolls += 1\n",
    "            avg_live_total += roll_score\n",
    "    avg = avg_total/num_rolls\n",
    "    ev[num_dice] = avg\n",
    "    ev_live[num_dice] = avg_live_total/num_live_rolls\n",
    "    \n",
    "for key in sorted(ev, key=ev.get, reverse=False):\n",
    "    print('EV(%s dice) = %0.2f \\t EV(%s dice|does_live) = %0.2f \\t EV*P(live) = %0.2f' \n",
    "          % (key,ev[key],\n",
    "             key,ev_live[key],\n",
    "            ev[key]/prob_live[key]))"
   ]
  },
  {
   "cell_type": "code",
   "execution_count": 103,
   "metadata": {},
   "outputs": [
    {
     "name": "stdout",
     "output_type": "stream",
     "text": [
      "current_score: 100, dice_left: 1, EV of continuing: 58.09 - stop\n",
      "current_score: 100, dice_left: 2, EV of continuing: 105.81 - ROLL!\n",
      "current_score: 100, dice_left: 3, EV of continuing: 159.27 - ROLL!\n",
      "current_score: 100, dice_left: 4, EV of continuing: 225.29 - ROLL!\n",
      "current_score: 100, dice_left: 5, EV of continuing: 306.33 - ROLL!\n",
      "current_score: 100, dice_left: 6, EV of continuing: 405.77 - ROLL!\n",
      "current_score: 100, dice_left: 7, EV of continuing: 518.48 - ROLL!\n",
      "current_score: 100, dice_left: 8, EV of continuing: 646.04 - ROLL!\n",
      "current_score: 100, dice_left: 9, EV of continuing: 784.59 - ROLL!\n",
      "current_score: 100, dice_left: 10, EV of continuing: 928.84 - ROLL!\n",
      "\n",
      "current_score: 200, dice_left: 1, EV of continuing: 91.28 - stop\n",
      "current_score: 200, dice_left: 2, EV of continuing: 161.54 - stop\n",
      "current_score: 200, dice_left: 3, EV of continuing: 231.78 - ROLL!\n",
      "current_score: 200, dice_left: 4, EV of continuing: 309.47 - ROLL!\n",
      "current_score: 200, dice_left: 5, EV of continuing: 398.49 - ROLL!\n",
      "current_score: 200, dice_left: 6, EV of continuing: 502.69 - ROLL!\n",
      "current_score: 200, dice_left: 7, EV of continuing: 617.61 - ROLL!\n",
      "current_score: 200, dice_left: 8, EV of continuing: 745.88 - ROLL!\n",
      "current_score: 200, dice_left: 9, EV of continuing: 884.59 - ROLL!\n",
      "current_score: 200, dice_left: 10, EV of continuing: 1028.84 - ROLL!\n",
      "\n",
      "current_score: 300, dice_left: 1, EV of continuing: 124.48 - stop\n",
      "current_score: 300, dice_left: 2, EV of continuing: 217.27 - stop\n",
      "current_score: 300, dice_left: 3, EV of continuing: 304.29 - ROLL!\n",
      "current_score: 300, dice_left: 4, EV of continuing: 393.64 - ROLL!\n",
      "current_score: 300, dice_left: 5, EV of continuing: 490.64 - ROLL!\n",
      "current_score: 300, dice_left: 6, EV of continuing: 599.61 - ROLL!\n",
      "current_score: 300, dice_left: 7, EV of continuing: 716.73 - ROLL!\n",
      "current_score: 300, dice_left: 8, EV of continuing: 845.73 - ROLL!\n",
      "current_score: 300, dice_left: 9, EV of continuing: 984.59 - ROLL!\n",
      "current_score: 300, dice_left: 10, EV of continuing: 1128.84 - ROLL!\n",
      "\n",
      "current_score: 400, dice_left: 1, EV of continuing: 157.67 - stop\n",
      "current_score: 400, dice_left: 2, EV of continuing: 273.00 - stop\n",
      "current_score: 400, dice_left: 3, EV of continuing: 376.80 - stop\n",
      "current_score: 400, dice_left: 4, EV of continuing: 477.81 - ROLL!\n",
      "current_score: 400, dice_left: 5, EV of continuing: 582.79 - ROLL!\n",
      "current_score: 400, dice_left: 6, EV of continuing: 696.53 - ROLL!\n",
      "current_score: 400, dice_left: 7, EV of continuing: 815.85 - ROLL!\n",
      "current_score: 400, dice_left: 8, EV of continuing: 945.58 - ROLL!\n",
      "current_score: 400, dice_left: 9, EV of continuing: 1084.59 - ROLL!\n",
      "current_score: 400, dice_left: 10, EV of continuing: 1228.84 - ROLL!\n",
      "\n",
      "current_score: 500, dice_left: 1, EV of continuing: 190.86 - stop\n",
      "current_score: 500, dice_left: 2, EV of continuing: 328.74 - stop\n",
      "current_score: 500, dice_left: 3, EV of continuing: 449.31 - stop\n",
      "current_score: 500, dice_left: 4, EV of continuing: 561.99 - ROLL!\n",
      "current_score: 500, dice_left: 5, EV of continuing: 674.95 - ROLL!\n",
      "current_score: 500, dice_left: 6, EV of continuing: 793.44 - ROLL!\n",
      "current_score: 500, dice_left: 7, EV of continuing: 914.97 - ROLL!\n",
      "current_score: 500, dice_left: 8, EV of continuing: 1045.42 - ROLL!\n",
      "current_score: 500, dice_left: 9, EV of continuing: 1184.59 - ROLL!\n",
      "current_score: 500, dice_left: 10, EV of continuing: 1328.84 - ROLL!\n",
      "\n",
      "current_score: 600, dice_left: 1, EV of continuing: 224.05 - stop\n",
      "current_score: 600, dice_left: 2, EV of continuing: 384.47 - stop\n",
      "current_score: 600, dice_left: 3, EV of continuing: 521.82 - stop\n",
      "current_score: 600, dice_left: 4, EV of continuing: 646.16 - ROLL!\n",
      "current_score: 600, dice_left: 5, EV of continuing: 767.10 - ROLL!\n",
      "current_score: 600, dice_left: 6, EV of continuing: 890.36 - ROLL!\n",
      "current_score: 600, dice_left: 7, EV of continuing: 1014.10 - ROLL!\n",
      "current_score: 600, dice_left: 8, EV of continuing: 1145.27 - ROLL!\n",
      "current_score: 600, dice_left: 9, EV of continuing: 1284.59 - ROLL!\n",
      "current_score: 600, dice_left: 10, EV of continuing: 1428.84 - ROLL!\n",
      "\n",
      "current_score: 700, dice_left: 1, EV of continuing: 257.24 - stop\n",
      "current_score: 700, dice_left: 2, EV of continuing: 440.20 - stop\n",
      "current_score: 700, dice_left: 3, EV of continuing: 594.33 - stop\n",
      "current_score: 700, dice_left: 4, EV of continuing: 730.33 - ROLL!\n",
      "current_score: 700, dice_left: 5, EV of continuing: 859.26 - ROLL!\n",
      "current_score: 700, dice_left: 6, EV of continuing: 987.28 - ROLL!\n",
      "current_score: 700, dice_left: 7, EV of continuing: 1113.22 - ROLL!\n",
      "current_score: 700, dice_left: 8, EV of continuing: 1245.11 - ROLL!\n",
      "current_score: 700, dice_left: 9, EV of continuing: 1384.59 - ROLL!\n",
      "current_score: 700, dice_left: 10, EV of continuing: 1528.84 - ROLL!\n",
      "\n",
      "current_score: 800, dice_left: 1, EV of continuing: 290.44 - stop\n",
      "current_score: 800, dice_left: 2, EV of continuing: 495.93 - stop\n",
      "current_score: 800, dice_left: 3, EV of continuing: 666.84 - stop\n",
      "current_score: 800, dice_left: 4, EV of continuing: 814.50 - ROLL!\n",
      "current_score: 800, dice_left: 5, EV of continuing: 951.41 - ROLL!\n",
      "current_score: 800, dice_left: 6, EV of continuing: 1084.20 - ROLL!\n",
      "current_score: 800, dice_left: 7, EV of continuing: 1212.34 - ROLL!\n",
      "current_score: 800, dice_left: 8, EV of continuing: 1344.96 - ROLL!\n",
      "current_score: 800, dice_left: 9, EV of continuing: 1484.59 - ROLL!\n",
      "current_score: 800, dice_left: 10, EV of continuing: 1628.84 - ROLL!\n",
      "\n",
      "current_score: 900, dice_left: 1, EV of continuing: 323.63 - stop\n",
      "current_score: 900, dice_left: 2, EV of continuing: 551.66 - stop\n",
      "current_score: 900, dice_left: 3, EV of continuing: 739.35 - stop\n",
      "current_score: 900, dice_left: 4, EV of continuing: 898.68 - stop\n",
      "current_score: 900, dice_left: 5, EV of continuing: 1043.56 - ROLL!\n",
      "current_score: 900, dice_left: 6, EV of continuing: 1181.12 - ROLL!\n",
      "current_score: 900, dice_left: 7, EV of continuing: 1311.47 - ROLL!\n",
      "current_score: 900, dice_left: 8, EV of continuing: 1444.81 - ROLL!\n",
      "current_score: 900, dice_left: 9, EV of continuing: 1584.59 - ROLL!\n",
      "current_score: 900, dice_left: 10, EV of continuing: 1728.84 - ROLL!\n",
      "\n",
      "current_score: 1000, dice_left: 1, EV of continuing: 356.82 - stop\n",
      "current_score: 1000, dice_left: 2, EV of continuing: 607.40 - stop\n",
      "current_score: 1000, dice_left: 3, EV of continuing: 811.86 - stop\n",
      "current_score: 1000, dice_left: 4, EV of continuing: 982.85 - stop\n",
      "current_score: 1000, dice_left: 5, EV of continuing: 1135.72 - ROLL!\n",
      "current_score: 1000, dice_left: 6, EV of continuing: 1278.04 - ROLL!\n",
      "current_score: 1000, dice_left: 7, EV of continuing: 1410.59 - ROLL!\n",
      "current_score: 1000, dice_left: 8, EV of continuing: 1544.65 - ROLL!\n",
      "current_score: 1000, dice_left: 9, EV of continuing: 1684.59 - ROLL!\n",
      "current_score: 1000, dice_left: 10, EV of continuing: 1828.84 - ROLL!\n",
      "\n",
      "current_score: 1100, dice_left: 1, EV of continuing: 390.01 - stop\n",
      "current_score: 1100, dice_left: 2, EV of continuing: 663.13 - stop\n",
      "current_score: 1100, dice_left: 3, EV of continuing: 884.37 - stop\n",
      "current_score: 1100, dice_left: 4, EV of continuing: 1067.02 - stop\n",
      "current_score: 1100, dice_left: 5, EV of continuing: 1227.87 - ROLL!\n",
      "current_score: 1100, dice_left: 6, EV of continuing: 1374.96 - ROLL!\n",
      "current_score: 1100, dice_left: 7, EV of continuing: 1509.71 - ROLL!\n",
      "current_score: 1100, dice_left: 8, EV of continuing: 1644.50 - ROLL!\n",
      "current_score: 1100, dice_left: 9, EV of continuing: 1784.59 - ROLL!\n",
      "current_score: 1100, dice_left: 10, EV of continuing: 1928.84 - ROLL!\n",
      "\n",
      "current_score: 1200, dice_left: 1, EV of continuing: 423.20 - stop\n",
      "current_score: 1200, dice_left: 2, EV of continuing: 718.86 - stop\n",
      "current_score: 1200, dice_left: 3, EV of continuing: 956.88 - stop\n",
      "current_score: 1200, dice_left: 4, EV of continuing: 1151.20 - stop\n",
      "current_score: 1200, dice_left: 5, EV of continuing: 1320.03 - ROLL!\n",
      "current_score: 1200, dice_left: 6, EV of continuing: 1471.88 - ROLL!\n",
      "current_score: 1200, dice_left: 7, EV of continuing: 1608.84 - ROLL!\n",
      "current_score: 1200, dice_left: 8, EV of continuing: 1744.34 - ROLL!\n",
      "current_score: 1200, dice_left: 9, EV of continuing: 1884.59 - ROLL!\n",
      "current_score: 1200, dice_left: 10, EV of continuing: 2028.84 - ROLL!\n",
      "\n",
      "current_score: 1300, dice_left: 1, EV of continuing: 456.40 - stop\n",
      "current_score: 1300, dice_left: 2, EV of continuing: 774.59 - stop\n",
      "current_score: 1300, dice_left: 3, EV of continuing: 1029.39 - stop\n",
      "current_score: 1300, dice_left: 4, EV of continuing: 1235.37 - stop\n",
      "current_score: 1300, dice_left: 5, EV of continuing: 1412.18 - ROLL!\n",
      "current_score: 1300, dice_left: 6, EV of continuing: 1568.80 - ROLL!\n",
      "current_score: 1300, dice_left: 7, EV of continuing: 1707.96 - ROLL!\n",
      "current_score: 1300, dice_left: 8, EV of continuing: 1844.19 - ROLL!\n",
      "current_score: 1300, dice_left: 9, EV of continuing: 1984.59 - ROLL!\n",
      "current_score: 1300, dice_left: 10, EV of continuing: 2128.84 - ROLL!\n",
      "\n",
      "current_score: 1400, dice_left: 1, EV of continuing: 489.59 - stop\n",
      "current_score: 1400, dice_left: 2, EV of continuing: 830.32 - stop\n",
      "current_score: 1400, dice_left: 3, EV of continuing: 1101.90 - stop\n",
      "current_score: 1400, dice_left: 4, EV of continuing: 1319.54 - stop\n",
      "current_score: 1400, dice_left: 5, EV of continuing: 1504.33 - ROLL!\n",
      "current_score: 1400, dice_left: 6, EV of continuing: 1665.72 - ROLL!\n",
      "current_score: 1400, dice_left: 7, EV of continuing: 1807.08 - ROLL!\n",
      "current_score: 1400, dice_left: 8, EV of continuing: 1944.04 - ROLL!\n",
      "current_score: 1400, dice_left: 9, EV of continuing: 2084.59 - ROLL!\n",
      "current_score: 1400, dice_left: 10, EV of continuing: 2228.84 - ROLL!\n",
      "\n",
      "current_score: 1500, dice_left: 1, EV of continuing: 522.78 - stop\n",
      "current_score: 1500, dice_left: 2, EV of continuing: 886.06 - stop\n",
      "current_score: 1500, dice_left: 3, EV of continuing: 1174.41 - stop\n",
      "current_score: 1500, dice_left: 4, EV of continuing: 1403.72 - stop\n",
      "current_score: 1500, dice_left: 5, EV of continuing: 1596.49 - ROLL!\n",
      "current_score: 1500, dice_left: 6, EV of continuing: 1762.63 - ROLL!\n",
      "current_score: 1500, dice_left: 7, EV of continuing: 1906.20 - ROLL!\n",
      "current_score: 1500, dice_left: 8, EV of continuing: 2043.88 - ROLL!\n",
      "current_score: 1500, dice_left: 9, EV of continuing: 2184.59 - ROLL!\n",
      "current_score: 1500, dice_left: 10, EV of continuing: 2328.84 - ROLL!\n",
      "\n",
      "current_score: 1600, dice_left: 1, EV of continuing: 555.97 - stop\n",
      "current_score: 1600, dice_left: 2, EV of continuing: 941.79 - stop\n",
      "current_score: 1600, dice_left: 3, EV of continuing: 1246.92 - stop\n",
      "current_score: 1600, dice_left: 4, EV of continuing: 1487.89 - stop\n",
      "current_score: 1600, dice_left: 5, EV of continuing: 1688.64 - ROLL!\n",
      "current_score: 1600, dice_left: 6, EV of continuing: 1859.55 - ROLL!\n",
      "current_score: 1600, dice_left: 7, EV of continuing: 2005.33 - ROLL!\n",
      "current_score: 1600, dice_left: 8, EV of continuing: 2143.73 - ROLL!\n",
      "current_score: 1600, dice_left: 9, EV of continuing: 2284.59 - ROLL!\n",
      "current_score: 1600, dice_left: 10, EV of continuing: 2428.84 - ROLL!\n",
      "\n",
      "current_score: 1700, dice_left: 1, EV of continuing: 589.16 - stop\n",
      "current_score: 1700, dice_left: 2, EV of continuing: 997.52 - stop\n",
      "current_score: 1700, dice_left: 3, EV of continuing: 1319.43 - stop\n",
      "current_score: 1700, dice_left: 4, EV of continuing: 1572.06 - stop\n",
      "current_score: 1700, dice_left: 5, EV of continuing: 1780.80 - ROLL!\n",
      "current_score: 1700, dice_left: 6, EV of continuing: 1956.47 - ROLL!\n",
      "current_score: 1700, dice_left: 7, EV of continuing: 2104.45 - ROLL!\n",
      "current_score: 1700, dice_left: 8, EV of continuing: 2243.57 - ROLL!\n",
      "current_score: 1700, dice_left: 9, EV of continuing: 2384.59 - ROLL!\n",
      "current_score: 1700, dice_left: 10, EV of continuing: 2528.84 - ROLL!\n",
      "\n",
      "current_score: 1800, dice_left: 1, EV of continuing: 622.36 - stop\n",
      "current_score: 1800, dice_left: 2, EV of continuing: 1053.25 - stop\n",
      "current_score: 1800, dice_left: 3, EV of continuing: 1391.94 - stop\n",
      "current_score: 1800, dice_left: 4, EV of continuing: 1656.23 - stop\n",
      "current_score: 1800, dice_left: 5, EV of continuing: 1872.95 - ROLL!\n",
      "current_score: 1800, dice_left: 6, EV of continuing: 2053.39 - ROLL!\n",
      "current_score: 1800, dice_left: 7, EV of continuing: 2203.57 - ROLL!\n",
      "current_score: 1800, dice_left: 8, EV of continuing: 2343.42 - ROLL!\n",
      "current_score: 1800, dice_left: 9, EV of continuing: 2484.59 - ROLL!\n",
      "current_score: 1800, dice_left: 10, EV of continuing: 2628.84 - ROLL!\n",
      "\n",
      "current_score: 1900, dice_left: 1, EV of continuing: 655.55 - stop\n",
      "current_score: 1900, dice_left: 2, EV of continuing: 1108.98 - stop\n",
      "current_score: 1900, dice_left: 3, EV of continuing: 1464.45 - stop\n",
      "current_score: 1900, dice_left: 4, EV of continuing: 1740.41 - stop\n",
      "current_score: 1900, dice_left: 5, EV of continuing: 1965.10 - ROLL!\n",
      "current_score: 1900, dice_left: 6, EV of continuing: 2150.31 - ROLL!\n",
      "current_score: 1900, dice_left: 7, EV of continuing: 2302.70 - ROLL!\n",
      "current_score: 1900, dice_left: 8, EV of continuing: 2443.27 - ROLL!\n",
      "current_score: 1900, dice_left: 9, EV of continuing: 2584.59 - ROLL!\n",
      "current_score: 1900, dice_left: 10, EV of continuing: 2728.84 - ROLL!\n",
      "\n",
      "current_score: 2000, dice_left: 1, EV of continuing: 688.74 - stop\n",
      "current_score: 2000, dice_left: 2, EV of continuing: 1164.72 - stop\n",
      "current_score: 2000, dice_left: 3, EV of continuing: 1536.96 - stop\n",
      "current_score: 2000, dice_left: 4, EV of continuing: 1824.58 - stop\n",
      "current_score: 2000, dice_left: 5, EV of continuing: 2057.26 - ROLL!\n",
      "current_score: 2000, dice_left: 6, EV of continuing: 2247.23 - ROLL!\n",
      "current_score: 2000, dice_left: 7, EV of continuing: 2401.82 - ROLL!\n",
      "current_score: 2000, dice_left: 8, EV of continuing: 2543.11 - ROLL!\n",
      "current_score: 2000, dice_left: 9, EV of continuing: 2684.59 - ROLL!\n",
      "current_score: 2000, dice_left: 10, EV of continuing: 2828.84 - ROLL!\n",
      "\n",
      "current_score: 2100, dice_left: 1, EV of continuing: 721.93 - stop\n",
      "current_score: 2100, dice_left: 2, EV of continuing: 1220.45 - stop\n",
      "current_score: 2100, dice_left: 3, EV of continuing: 1609.47 - stop\n",
      "current_score: 2100, dice_left: 4, EV of continuing: 1908.75 - stop\n",
      "current_score: 2100, dice_left: 5, EV of continuing: 2149.41 - ROLL!\n",
      "current_score: 2100, dice_left: 6, EV of continuing: 2344.15 - ROLL!\n",
      "current_score: 2100, dice_left: 7, EV of continuing: 2500.94 - ROLL!\n",
      "current_score: 2100, dice_left: 8, EV of continuing: 2642.96 - ROLL!\n",
      "current_score: 2100, dice_left: 9, EV of continuing: 2784.59 - ROLL!\n",
      "current_score: 2100, dice_left: 10, EV of continuing: 2928.84 - ROLL!\n",
      "\n",
      "current_score: 2200, dice_left: 1, EV of continuing: 755.12 - stop\n",
      "current_score: 2200, dice_left: 2, EV of continuing: 1276.18 - stop\n",
      "current_score: 2200, dice_left: 3, EV of continuing: 1681.98 - stop\n",
      "current_score: 2200, dice_left: 4, EV of continuing: 1992.93 - stop\n",
      "current_score: 2200, dice_left: 5, EV of continuing: 2241.57 - ROLL!\n",
      "current_score: 2200, dice_left: 6, EV of continuing: 2441.07 - ROLL!\n",
      "current_score: 2200, dice_left: 7, EV of continuing: 2600.07 - ROLL!\n",
      "current_score: 2200, dice_left: 8, EV of continuing: 2742.80 - ROLL!\n",
      "current_score: 2200, dice_left: 9, EV of continuing: 2884.59 - ROLL!\n",
      "current_score: 2200, dice_left: 10, EV of continuing: 3028.84 - ROLL!\n",
      "\n",
      "current_score: 2300, dice_left: 1, EV of continuing: 788.32 - stop\n",
      "current_score: 2300, dice_left: 2, EV of continuing: 1331.91 - stop\n",
      "current_score: 2300, dice_left: 3, EV of continuing: 1754.49 - stop\n",
      "current_score: 2300, dice_left: 4, EV of continuing: 2077.10 - stop\n",
      "current_score: 2300, dice_left: 5, EV of continuing: 2333.72 - ROLL!\n",
      "current_score: 2300, dice_left: 6, EV of continuing: 2537.99 - ROLL!\n",
      "current_score: 2300, dice_left: 7, EV of continuing: 2699.19 - ROLL!\n",
      "current_score: 2300, dice_left: 8, EV of continuing: 2842.65 - ROLL!\n",
      "current_score: 2300, dice_left: 9, EV of continuing: 2984.59 - ROLL!\n",
      "current_score: 2300, dice_left: 10, EV of continuing: 3128.84 - ROLL!\n",
      "\n",
      "current_score: 2400, dice_left: 1, EV of continuing: 821.51 - stop\n",
      "current_score: 2400, dice_left: 2, EV of continuing: 1387.64 - stop\n",
      "current_score: 2400, dice_left: 3, EV of continuing: 1827.00 - stop\n",
      "current_score: 2400, dice_left: 4, EV of continuing: 2161.27 - stop\n",
      "current_score: 2400, dice_left: 5, EV of continuing: 2425.87 - ROLL!\n",
      "current_score: 2400, dice_left: 6, EV of continuing: 2634.91 - ROLL!\n",
      "current_score: 2400, dice_left: 7, EV of continuing: 2798.31 - ROLL!\n",
      "current_score: 2400, dice_left: 8, EV of continuing: 2942.50 - ROLL!\n",
      "current_score: 2400, dice_left: 9, EV of continuing: 3084.59 - ROLL!\n",
      "current_score: 2400, dice_left: 10, EV of continuing: 3228.84 - ROLL!\n",
      "\n",
      "current_score: 2500, dice_left: 1, EV of continuing: 854.70 - stop\n",
      "current_score: 2500, dice_left: 2, EV of continuing: 1443.38 - stop\n",
      "current_score: 2500, dice_left: 3, EV of continuing: 1899.51 - stop\n",
      "current_score: 2500, dice_left: 4, EV of continuing: 2245.45 - stop\n",
      "current_score: 2500, dice_left: 5, EV of continuing: 2518.03 - ROLL!\n",
      "current_score: 2500, dice_left: 6, EV of continuing: 2731.82 - ROLL!\n",
      "current_score: 2500, dice_left: 7, EV of continuing: 2897.43 - ROLL!\n",
      "current_score: 2500, dice_left: 8, EV of continuing: 3042.34 - ROLL!\n",
      "current_score: 2500, dice_left: 9, EV of continuing: 3184.59 - ROLL!\n",
      "current_score: 2500, dice_left: 10, EV of continuing: 3328.84 - ROLL!\n",
      "\n",
      "current_score: 2600, dice_left: 1, EV of continuing: 887.89 - stop\n",
      "current_score: 2600, dice_left: 2, EV of continuing: 1499.11 - stop\n",
      "current_score: 2600, dice_left: 3, EV of continuing: 1972.02 - stop\n",
      "current_score: 2600, dice_left: 4, EV of continuing: 2329.62 - stop\n",
      "current_score: 2600, dice_left: 5, EV of continuing: 2610.18 - ROLL!\n",
      "current_score: 2600, dice_left: 6, EV of continuing: 2828.74 - ROLL!\n",
      "current_score: 2600, dice_left: 7, EV of continuing: 2996.56 - ROLL!\n",
      "current_score: 2600, dice_left: 8, EV of continuing: 3142.19 - ROLL!\n",
      "current_score: 2600, dice_left: 9, EV of continuing: 3284.59 - ROLL!\n",
      "current_score: 2600, dice_left: 10, EV of continuing: 3428.84 - ROLL!\n",
      "\n",
      "current_score: 2700, dice_left: 1, EV of continuing: 921.08 - stop\n",
      "current_score: 2700, dice_left: 2, EV of continuing: 1554.84 - stop\n",
      "current_score: 2700, dice_left: 3, EV of continuing: 2044.53 - stop\n",
      "current_score: 2700, dice_left: 4, EV of continuing: 2413.79 - stop\n",
      "current_score: 2700, dice_left: 5, EV of continuing: 2702.34 - ROLL!\n",
      "current_score: 2700, dice_left: 6, EV of continuing: 2925.66 - ROLL!\n",
      "current_score: 2700, dice_left: 7, EV of continuing: 3095.68 - ROLL!\n",
      "current_score: 2700, dice_left: 8, EV of continuing: 3242.03 - ROLL!\n",
      "current_score: 2700, dice_left: 9, EV of continuing: 3384.59 - ROLL!\n",
      "current_score: 2700, dice_left: 10, EV of continuing: 3528.84 - ROLL!\n",
      "\n",
      "current_score: 2800, dice_left: 1, EV of continuing: 954.28 - stop\n",
      "current_score: 2800, dice_left: 2, EV of continuing: 1610.57 - stop\n",
      "current_score: 2800, dice_left: 3, EV of continuing: 2117.04 - stop\n",
      "current_score: 2800, dice_left: 4, EV of continuing: 2497.96 - stop\n",
      "current_score: 2800, dice_left: 5, EV of continuing: 2794.49 - stop\n",
      "current_score: 2800, dice_left: 6, EV of continuing: 3022.58 - ROLL!\n",
      "current_score: 2800, dice_left: 7, EV of continuing: 3194.80 - ROLL!\n",
      "current_score: 2800, dice_left: 8, EV of continuing: 3341.88 - ROLL!\n",
      "current_score: 2800, dice_left: 9, EV of continuing: 3484.59 - ROLL!\n",
      "current_score: 2800, dice_left: 10, EV of continuing: 3628.84 - ROLL!\n",
      "\n",
      "current_score: 2900, dice_left: 1, EV of continuing: 987.47 - stop\n",
      "current_score: 2900, dice_left: 2, EV of continuing: 1666.30 - stop\n",
      "current_score: 2900, dice_left: 3, EV of continuing: 2189.55 - stop\n",
      "current_score: 2900, dice_left: 4, EV of continuing: 2582.14 - stop\n",
      "current_score: 2900, dice_left: 5, EV of continuing: 2886.64 - stop\n",
      "current_score: 2900, dice_left: 6, EV of continuing: 3119.50 - ROLL!\n",
      "current_score: 2900, dice_left: 7, EV of continuing: 3293.93 - ROLL!\n",
      "current_score: 2900, dice_left: 8, EV of continuing: 3441.73 - ROLL!\n",
      "current_score: 2900, dice_left: 9, EV of continuing: 3584.59 - ROLL!\n",
      "current_score: 2900, dice_left: 10, EV of continuing: 3728.84 - ROLL!\n",
      "\n",
      "current_score: 3000, dice_left: 1, EV of continuing: 1020.66 - stop\n",
      "current_score: 3000, dice_left: 2, EV of continuing: 1722.04 - stop\n",
      "current_score: 3000, dice_left: 3, EV of continuing: 2262.06 - stop\n",
      "current_score: 3000, dice_left: 4, EV of continuing: 2666.31 - stop\n",
      "current_score: 3000, dice_left: 5, EV of continuing: 2978.80 - stop\n",
      "current_score: 3000, dice_left: 6, EV of continuing: 3216.42 - ROLL!\n",
      "current_score: 3000, dice_left: 7, EV of continuing: 3393.05 - ROLL!\n",
      "current_score: 3000, dice_left: 8, EV of continuing: 3541.57 - ROLL!\n",
      "current_score: 3000, dice_left: 9, EV of continuing: 3684.59 - ROLL!\n",
      "current_score: 3000, dice_left: 10, EV of continuing: 3828.84 - ROLL!\n",
      "\n"
     ]
    }
   ],
   "source": [
    "current_scores = range(100,3001,100)\n",
    "dice_left = range(1,11)\n",
    "for s in current_scores:\n",
    "    for d in dice_left:\n",
    "        ev_score = (s + ev_live[d]) * prob_live[d]\n",
    "        roll_string = 'ROLL!' if ev_score > s else 'stop'\n",
    "        print('current_score: %d, dice_left: %d, EV of continuing: %0.2f - %s' % (s,d,ev_score,roll_string))\n",
    "        \n",
    "    print()"
   ]
  }
 ],
 "metadata": {
  "kernelspec": {
   "display_name": "Python 3",
   "language": "python",
   "name": "python3"
  },
  "language_info": {
   "codemirror_mode": {
    "name": "ipython",
    "version": 3
   },
   "file_extension": ".py",
   "mimetype": "text/x-python",
   "name": "python",
   "nbconvert_exporter": "python",
   "pygments_lexer": "ipython3",
   "version": "3.6.6"
  }
 },
 "nbformat": 4,
 "nbformat_minor": 2
}
