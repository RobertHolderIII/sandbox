{
 "cells": [
  {
   "cell_type": "code",
   "execution_count": 35,
   "metadata": {},
   "outputs": [],
   "source": [
    "import re\n",
    "syntax = re.compile(r'''orderHistory-restaurantLink\"\\shref=\"javascript:void\\(0\\);\">(?P<resName>[^<]+)</a>\n",
    "                        .*?\n",
    "                        past-order-card-amount\">\\$(?P<amt>[^<]+)</h4>\n",
    "                        .*?\n",
    "                        class=\"u-text-secondary\\su-text-ellipsis\">(?P<date>[^<]+)<''',\n",
    "                    re.VERBOSE)\n"
   ]
  },
  {
   "cell_type": "code",
   "execution_count": 58,
   "metadata": {},
   "outputs": [
    {
     "name": "stdout",
     "output_type": "stream",
     "text": [
      "[1, 'Little Caesars Pizza', '21.24', 'January 18, 2025']\n",
      "[2, 'Five Guys', '32.93', 'January 5, 2025']\n",
      "[3, 'Maiwand Kabob', '53.43', 'December 29, 2024']\n",
      "[4, 'Chipotle', '51.06', 'December 27, 2024']\n",
      "[5, 'Five Guys', '32.93', 'December 21, 2024']\n",
      "[6, 'Five Guys', '34.42', 'November 20, 2024']\n",
      "[7, 'An Loi', '28.93', 'November 14, 2024']\n",
      "[8, 'Maiwand Kabob', '55.42', 'November 12, 2024']\n",
      "[9, 'Soul Boat', '36.76', 'November 10, 2024']\n",
      "[10, 'Chipotle', '32.77', 'November 6, 2024']\n",
      "[11, 'Chipotle', '32.77', 'October 30, 2024']\n",
      "[12, 'Chipotle', '34.19', 'October 9, 2024']\n",
      "[13, 'Chipotle', '34.19', 'September 29, 2024']\n",
      "[14, 'Soul Boat', '45.25', 'September 17, 2024']\n",
      "[15, 'Potbelly Sandwich Works', '34.30', 'September 8, 2024']\n",
      "[16, 'Maiwand Kabob', '55.42', 'September 6, 2024']\n",
      "[17, \"Bertucci's\", '49.91', 'August 31, 2024']\n",
      "[18, 'Chipotle', '34.19', 'August 23, 2024']\n",
      "[19, 'An Loi', '26.75', 'August 7, 2024']\n",
      "[20, 'Chipotle', '35.89', 'August 6, 2024']\n",
      "[21, 'Chipotle', '35.89', 'August 4, 2024']\n",
      "[22, 'Little Caesars Pizza', '23.69', 'July 12, 2024']\n",
      "[23, 'Chipotle', '35.89', 'July 11, 2024']\n",
      "[24, 'Chipotle', '35.89', 'July 3, 2024']\n",
      "[25, 'Chipotle', '34.19', 'June 28, 2024']\n",
      "[26, 'Panera Bread', '40.14', 'June 27, 2024']\n",
      "[27, \"Famous Dave's\", '48.03', 'June 21, 2024']\n",
      "[28, 'An Loi', '45.40', 'June 19, 2024']\n",
      "[29, 'Chipotle', '34.19', 'June 16, 2024']\n",
      "[30, 'Soul Boat', '44.37', 'June 14, 2024']\n",
      "[31, 'Potbelly Sandwich Works', '39.20', 'June 10, 2024']\n",
      "[32, 'Soul Boat', '44.37', 'June 5, 2024']\n",
      "[33, \"Famous Dave's\", '49.19', 'June 3, 2024']\n",
      "[34, 'An Loi', '28.24', 'May 29, 2024']\n",
      "[35, 'Bon Fresco Sandwich Bakery', '44.80', 'May 28, 2024']\n",
      "[36, 'Maiwand Kabob', '57.68', 'May 26, 2024']\n",
      "[37, 'An Loi', '53.99', 'May 23, 2024']\n",
      "[38, 'Soul Boat', '44.65', 'May 19, 2024']\n",
      "[39, 'Panda Express (2207)', '69.24', 'May 15, 2024']\n",
      "[40, 'Potbelly Sandwich Works', '34.30', 'May 9, 2024']\n",
      "[41, 'Little Caesars Pizza', '23.53', 'April 24, 2024']\n",
      "[42, 'An Loi', '52.45', 'April 21, 2024']\n",
      "[43, 'CHICK N’ FRIENDS', '47.13', 'April 13, 2024']\n",
      "[44, \"Famous Dave's\", '47.67', 'April 12, 2024']\n",
      "[45, 'Chipotle', '33.98', 'April 11, 2024']\n",
      "[46, 'Maiwand Kabob', '54.99', 'March 31, 2024']\n",
      "[47, \"Famous Dave's\", '48.77', 'March 29, 2024']\n",
      "[48, 'Soul Boat', '58.33', 'March 25, 2024']\n",
      "[49, 'Maiwand Kabob', '54.99', 'March 16, 2024']\n",
      "[50, 'Chipotle', '35.39', 'March 13, 2024']\n",
      "[51, 'Five Guys', '32.82', 'March 3, 2024']\n",
      "[52, 'Panera Bread', '46.44', 'March 2, 2024']\n",
      "[53, 'Chipotle', '35.39', 'February 25, 2024']\n",
      "[54, 'An Loi', '26.65', 'February 23, 2024']\n",
      "[55, 'Bon Fresco Sandwich Bakery', '23.94', 'February 23, 2024']\n",
      "[56, 'Soul Boat', '33.55', 'February 20, 2024']\n",
      "[57, 'Maiwand Kabob', '60.63', 'February 6, 2024']\n",
      "[58, 'An Loi', '47.42', 'February 1, 2024']\n",
      "[59, 'Soul Boat', '34.68', 'January 22, 2024']\n",
      "[60, 'Bonchon', '25.83', 'January 12, 2024']\n",
      "[61, 'Bon Fresco Sandwich Bakery', '40.81', 'January 5, 2024']\n"
     ]
    }
   ],
   "source": [
    "import csv\n",
    "\n",
    "count = 0\n",
    "with open(\"grubhub.csv\", \"w\") as csvfile:\n",
    "    out = csv.writer(csvfile, delimiter=\",\", quoting=csv.QUOTE_MINIMAL)\n",
    "    \n",
    "    prefix = \"../grubhub/grubhub_better/\"\n",
    "    for filename in ['Orders.htm', 'Orders2.htm', 'Orders3.htm', 'Orders4.htm']:\n",
    "        with open(prefix+filename, 'r') as file:        \n",
    "            for line in file:\n",
    "                matches = syntax.finditer(line)\n",
    "                for match in matches:\n",
    "                    count+=1\n",
    "                    row = [\n",
    "                        count, \n",
    "                        match.group('resName'), \n",
    "                        match.group('amt'), \n",
    "                        match.group('date')\n",
    "                    ]\n",
    "                    out.writerow(row)\n",
    "                    print(row)"
   ]
  },
  {
   "cell_type": "code",
   "execution_count": null,
   "metadata": {},
   "outputs": [],
   "source": []
  }
 ],
 "metadata": {
  "kernelspec": {
   "display_name": "Python 3",
   "language": "python",
   "name": "python3"
  },
  "language_info": {
   "codemirror_mode": {
    "name": "ipython",
    "version": 3
   },
   "file_extension": ".py",
   "mimetype": "text/x-python",
   "name": "python",
   "nbconvert_exporter": "python",
   "pygments_lexer": "ipython3",
   "version": "3.8.3"
  }
 },
 "nbformat": 4,
 "nbformat_minor": 4
}
