{
 "cells": [
  {
   "cell_type": "code",
   "execution_count": 1,
   "metadata": {},
   "outputs": [
    {
     "data": {
      "text/plain": [
       "[4, 2, 5, 4, 5]"
      ]
     },
     "execution_count": 1,
     "metadata": {},
     "output_type": "execute_result"
    }
   ],
   "source": [
    "from random import randint\n",
    "def roll(n=5):\n",
    "    return [randint(1,6) for _ in range(n)]\n",
    "roll()"
   ]
  },
  {
   "cell_type": "code",
   "execution_count": 4,
   "metadata": {},
   "outputs": [
    {
     "data": {
      "text/plain": [
       "(False, False, True)"
      ]
     },
     "execution_count": 4,
     "metadata": {},
     "output_type": "execute_result"
    }
   ],
   "source": [
    "def is_yahtzee(dice):\n",
    "    return all(v==dice[0] for v in dice)\n",
    "is_yahtzee([2,3,2,1,1]),is_yahtzee([3,3,3,3,1]),is_yahtzee([4,4,4,4,4])"
   ]
  },
  {
   "cell_type": "code",
   "execution_count": 35,
   "metadata": {},
   "outputs": [],
   "source": [
    "from collections import Counter\n",
    "\n",
    "def run_experiment(verbose=False):\n",
    "    cnt_list = [] #tracks max number of matching numbers after roll i\n",
    "    #first roll\n",
    "    dice = roll(5)\n",
    "    if verbose: print(dice)\n",
    "    if is_yahtzee(dice):\n",
    "        return (True,[5,-1,-1])\n",
    "    \n",
    "    #second roll\n",
    "    #keep most common number\n",
    "    most_common_tup = Counter(dice).most_common(1)[0]\n",
    "    most_common_val = most_common_tup[0]\n",
    "    cnt_list.append(most_common_tup[1])\n",
    "    dice = [v for v in dice if v==most_common_val]\n",
    "    dice += roll(5-len(dice))\n",
    "    if verbose: print(dice)\n",
    "    if is_yahtzee(dice):\n",
    "        cnt_list += [5,-1]\n",
    "        return(True,cnt_list)\n",
    "    \n",
    "    #third roll\n",
    "    most_common_tup = Counter(dice).most_common(1)[0]\n",
    "    most_common_val = most_common_tup[0]\n",
    "    cnt_list.append(most_common_tup[1])\n",
    "    dice = [v for v in dice if v==most_common_val]\n",
    "    dice += roll(5-len(dice))\n",
    "    if verbose: print(dice)\n",
    "    if is_yahtzee(dice):\n",
    "        cnt_list += [5]\n",
    "        return(True,cnt_list)\n",
    "    else:\n",
    "        cnt_list += [Counter(dice).most_common(1)[0][1]]\n",
    "        return(False,cnt_list)\n"
   ]
  },
  {
   "cell_type": "code",
   "execution_count": 57,
   "metadata": {},
   "outputs": [
    {
     "data": {
      "text/plain": [
       "(False, [1, 2, 2])"
      ]
     },
     "execution_count": 57,
     "metadata": {},
     "output_type": "execute_result"
    }
   ],
   "source": [
    "run_experiment()"
   ]
  },
  {
   "cell_type": "markdown",
   "metadata": {},
   "source": [
    "### calculate probability of getting a yahtzee on a turn"
   ]
  },
  {
   "cell_type": "code",
   "execution_count": 63,
   "metadata": {},
   "outputs": [
    {
     "name": "stdout",
     "output_type": "stream",
     "text": [
      "4694 100000 0.04694\n"
     ]
    }
   ],
   "source": [
    "n = 100000\n",
    "y = 0\n",
    "for _ in range(n):\n",
    "    res = run_experiment()\n",
    "    if (res[0]): y+=1\n",
    "print(y,n,y/n)"
   ]
  },
  {
   "cell_type": "markdown",
   "metadata": {},
   "source": [
    "this matches the calcuated probability of 4.74% as described here:  https://www.thoughtco.com/probability-of-rolling-a-yahtzee-3126593\n"
   ]
  },
  {
   "cell_type": "code",
   "execution_count": 67,
   "metadata": {},
   "outputs": [
    {
     "data": {
      "text/plain": [
       "0.5348200845190202"
      ]
     },
     "execution_count": 67,
     "metadata": {},
     "output_type": "execute_result"
    }
   ],
   "source": [
    "(1-.047)**13"
   ]
  },
  {
   "cell_type": "code",
   "execution_count": 68,
   "metadata": {},
   "outputs": [
    {
     "data": {
      "text/plain": [
       "1.6366612111292962"
      ]
     },
     "execution_count": 68,
     "metadata": {},
     "output_type": "execute_result"
    }
   ],
   "source": [
    "(1/.047)/13"
   ]
  },
  {
   "cell_type": "code",
   "execution_count": 69,
   "metadata": {},
   "outputs": [
    {
     "data": {
      "text/plain": [
       "21.27659574468085"
      ]
     },
     "execution_count": 69,
     "metadata": {},
     "output_type": "execute_result"
    }
   ],
   "source": [
    "1/.047"
   ]
  },
  {
   "cell_type": "code",
   "execution_count": 70,
   "metadata": {},
   "outputs": [
    {
     "data": {
      "text/plain": [
       "2.1739130434782608"
      ]
     },
     "execution_count": 70,
     "metadata": {},
     "output_type": "execute_result"
    }
   ],
   "source": [
    "1/.46"
   ]
  },
  {
   "cell_type": "markdown",
   "metadata": {},
   "source": [
    "### calculate expected number of matching numbers"
   ]
  },
  {
   "cell_type": "code",
   "execution_count": 72,
   "metadata": {},
   "outputs": [
    {
     "name": "stdout",
     "output_type": "stream",
     "text": [
      "300454 100000 3.00454\n"
     ]
    }
   ],
   "source": [
    "n = 100000\n",
    "n_of_a_kind = 0\n",
    "for _ in range(n):\n",
    "    res = run_experiment()\n",
    "    n_of_a_kind += res[1][2]\n",
    "print(n_of_a_kind,n,n_of_a_kind/n)"
   ]
  },
  {
   "cell_type": "code",
   "execution_count": null,
   "metadata": {},
   "outputs": [],
   "source": []
  }
 ],
 "metadata": {
  "kernelspec": {
   "display_name": "Python 3",
   "language": "python",
   "name": "python3"
  },
  "language_info": {
   "codemirror_mode": {
    "name": "ipython",
    "version": 3
   },
   "file_extension": ".py",
   "mimetype": "text/x-python",
   "name": "python",
   "nbconvert_exporter": "python",
   "pygments_lexer": "ipython3",
   "version": "3.8.3"
  }
 },
 "nbformat": 4,
 "nbformat_minor": 4
}
