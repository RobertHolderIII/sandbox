{
 "cells": [
  {
   "cell_type": "markdown",
   "metadata": {},
   "source": [
    "inspired by https://fivethirtyeight.com/features/can-you-make-an-unfair-coin-fair/"
   ]
  },
  {
   "cell_type": "code",
   "execution_count": 15,
   "metadata": {},
   "outputs": [],
   "source": [
    "import random\n",
    "def neumann_flip(p_heads):\n",
    "    same = True\n",
    "    while (same):\n",
    "        flips = [1 if random.random() < p_heads else 0 for _ in range(2)]\n",
    "        same = flips[0] == flips[1]\n",
    "        if not same:\n",
    "            return flips[1]"
   ]
  },
  {
   "cell_type": "code",
   "execution_count": 19,
   "metadata": {},
   "outputs": [
    {
     "name": "stdout",
     "output_type": "stream",
     "text": [
      "0.4998088\n",
      "CPU times: user 26.6 s, sys: 75.9 ms, total: 26.7 s\n",
      "Wall time: 26.7 s\n"
     ]
    }
   ],
   "source": [
    "%%time\n",
    "from statistics import mean\n",
    "num_trials = int(1e7)\n",
    "p_heads = 0.8\n",
    "results = [neumann_flip(p_heads) for _ in range(num_trials)]\n",
    "print(mean(results))\n"
   ]
  },
  {
   "cell_type": "code",
   "execution_count": null,
   "metadata": {},
   "outputs": [],
   "source": []
  }
 ],
 "metadata": {
  "kernelspec": {
   "display_name": "Python 3",
   "language": "python",
   "name": "python3"
  },
  "language_info": {
   "codemirror_mode": {
    "name": "ipython",
    "version": 3
   },
   "file_extension": ".py",
   "mimetype": "text/x-python",
   "name": "python",
   "nbconvert_exporter": "python",
   "pygments_lexer": "ipython3",
   "version": "3.8.3"
  }
 },
 "nbformat": 4,
 "nbformat_minor": 4
}
