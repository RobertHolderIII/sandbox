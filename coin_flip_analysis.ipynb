{
 "cells": [
  {
   "cell_type": "markdown",
   "metadata": {},
   "source": [
    "### function to flip a coin until we get the target run length"
   ]
  },
  {
   "cell_type": "code",
   "execution_count": 1,
   "metadata": {},
   "outputs": [],
   "source": [
    "import random\n",
    "def flip_until_run(target=9):\n",
    "    side = None\n",
    "    run = 0\n",
    "    flips = []\n",
    "    while (run < target):\n",
    "        flip = 'T' if random.random() < 0.5 else 'H'\n",
    "        flips.append(flip)\n",
    "        if side == flip:\n",
    "            run += 1\n",
    "        else:\n",
    "            side = flip\n",
    "            run = 1\n",
    "    return flips"
   ]
  },
  {
   "cell_type": "code",
   "execution_count": 2,
   "metadata": {},
   "outputs": [
    {
     "data": {
      "text/plain": [
       "['T', 'H', 'T', 'H', 'H', 'T', 'H', 'H', 'H', 'H', 'H']"
      ]
     },
     "execution_count": 2,
     "metadata": {},
     "output_type": "execute_result"
    }
   ],
   "source": [
    "flip_until_run(5)"
   ]
  },
  {
   "cell_type": "markdown",
   "metadata": {},
   "source": []
  },
  {
   "cell_type": "code",
   "execution_count": 3,
   "metadata": {},
   "outputs": [
    {
     "name": "stdout",
     "output_type": "stream",
     "text": [
      "CPU times: user 13.2 ms, sys: 897 µs, total: 14.1 ms\n",
      "Wall time: 13.7 ms\n"
     ]
    }
   ],
   "source": [
    "%%time\n",
    "target_length = 9\n",
    "num_trials = 100 #int(1e6)\n",
    "flip_count = []\n",
    "for i in range(num_trials):\n",
    "    flips = flip_until_run(target_length)\n",
    "    flip_count.append(len(flips))"
   ]
  },
  {
   "cell_type": "code",
   "execution_count": 4,
   "metadata": {},
   "outputs": [
    {
     "data": {
      "text/plain": [
       "507.95"
      ]
     },
     "execution_count": 4,
     "metadata": {},
     "output_type": "execute_result"
    }
   ],
   "source": [
    "import statistics\n",
    "statistics.mean(flip_count)"
   ]
  },
  {
   "cell_type": "code",
   "execution_count": 5,
   "metadata": {},
   "outputs": [
    {
     "data": {
      "image/png": "[encoded data removed]",
      "text/plain": [
       "<Figure size 432x288 with 1 Axes>"
      ]
     },
     "metadata": {
      "needs_background": "light"
     },
     "output_type": "display_data"
    }
   ],
   "source": [
    "import matplotlib.pyplot as plt\n",
    "%matplotlib inline\n",
    "_ = plt.hist(flip_count, bins=100)"
   ]
  },
  {
   "cell_type": "code",
   "execution_count": 9,
   "metadata": {},
   "outputs": [
    {
     "name": "stdout",
     "output_type": "stream",
     "text": [
      "0 0 1\n",
      "1 1 2\n",
      "2 3.08 4\n",
      "3 7.34 8\n",
      "4 15.36 16\n",
      "5 33.85 32\n",
      "6 64.68 64\n",
      "7 115.44 128\n",
      "8 229.31 256\n",
      "9 442.15 512\n",
      "10 934.26 1024\n",
      "11 1740.54 2048\n",
      "12 4141.58 4096\n",
      "13 7723.56 8192\n",
      "14 16132.91 16384\n",
      "15 27392.48 32768\n",
      "16 56029.82 65536\n",
      "17 132146.64 131072\n",
      "18 293053.44 262144\n",
      "19 545566.57 524288\n",
      "CPU times: user 21.6 s, sys: 310 ms, total: 21.9 s\n",
      "Wall time: 21.9 s\n"
     ]
    }
   ],
   "source": [
    "%%time\n",
    "num_trials = int(100)\n",
    "for target_length in range(20):\n",
    "    flip_count = []\n",
    "    for i in range(num_trials):\n",
    "        flips = flip_until_run(target_length)\n",
    "        flip_count.append(len(flips))\n",
    "    print(target_length, statistics.mean(flip_count), pow(2,target_length))"
   ]
  },
  {
   "cell_type": "code",
   "execution_count": null,
   "metadata": {},
   "outputs": [],
   "source": []
  }
 ],
 "metadata": {
  "kernelspec": {
   "display_name": "Python 3",
   "language": "python",
   "name": "python3"
  },
  "language_info": {
   "codemirror_mode": {
    "name": "ipython",
    "version": 3
   },
   "file_extension": ".py",
   "mimetype": "text/x-python",
   "name": "python",
   "nbconvert_exporter": "python",
   "pygments_lexer": "ipython3",
   "version": "3.8.3"
  }
 },
 "nbformat": 4,
 "nbformat_minor": 4
}
