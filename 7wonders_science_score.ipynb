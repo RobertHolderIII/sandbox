{
 "cells": [
  {
   "cell_type": "code",
   "execution_count": 4,
   "metadata": {},
   "outputs": [],
   "source": [
    "scores = dict()\n",
    "for s1 in range(0,6):\n",
    "    for s2 in range(0,s1+1):\n",
    "        for s3 in range(0,s2+1):\n",
    "            score = s1*s1 + s2*s2 + s3*s3 + 7*min(s1,s2,s3)\n",
    "            scores[(s1,s2,s3)] = score\n",
    "            "
   ]
  },
  {
   "cell_type": "code",
   "execution_count": 8,
   "metadata": {},
   "outputs": [
    {
     "data": {
      "text/plain": [
       "31"
      ]
     },
     "execution_count": 8,
     "metadata": {},
     "output_type": "execute_result"
    }
   ],
   "source": [
    "scores[(3,2,2)]"
   ]
  },
  {
   "cell_type": "code",
   "execution_count": 19,
   "metadata": {},
   "outputs": [
    {
     "data": {
      "text/plain": [
       "(2, 2, 1)"
      ]
     },
     "execution_count": 19,
     "metadata": {},
     "output_type": "execute_result"
    }
   ],
   "source": [
    "def best_increment(t):\n",
    "    \"\"\"\n",
    "    find the best index to increment\n",
    "    \"\"\"\n",
    "    best_idx = -1\n",
    "    best_score = -1\n",
    "    best_inc = None\n",
    "    for idx in range(3):\n",
    "        new_t = list(t)\n",
    "        new_t[idx] += 1\n",
    "        new_t = tuple(sorted(new_t, reverse=True))\n",
    "        if new_t in scores:\n",
    "            if scores[new_t] > best_score:\n",
    "                best_score = scores[new_t]\n",
    "                best_idx = idx\n",
    "                best_inc = new_t\n",
    "    return best_inc\n",
    "best_increment((2,2,0))"
   ]
  },
  {
   "cell_type": "code",
   "execution_count": 29,
   "metadata": {},
   "outputs": [
    {
     "name": "stdout",
     "output_type": "stream",
     "text": [
      "---0 symbols\n",
      "score: 0 (0, 0, 0) sets=0 best_inc=(1, 0, 0) new_sets=0\n",
      "\n",
      "---1 symbols\n",
      "score: 1 (1, 0, 0) sets=0 best_inc=(2, 0, 0) new_sets=0\n",
      "\n",
      "---2 symbols\n",
      "score: 4 (2, 0, 0) sets=0 best_inc=(3, 0, 0) new_sets=0\n",
      "score: 2 (1, 1, 0) sets=0 best_inc=(1, 1, 1) new_sets=1\n",
      "\n",
      "---3 symbols\n",
      "score: 10 (1, 1, 1) sets=1 best_inc=(2, 1, 1) new_sets=1\n",
      "score: 9 (3, 0, 0) sets=0 best_inc=(4, 0, 0) new_sets=0\n",
      "score: 5 (2, 1, 0) sets=0 best_inc=(2, 1, 1) new_sets=1\n",
      "\n",
      "---4 symbols\n",
      "score: 16 (4, 0, 0) sets=0 best_inc=(5, 0, 0) new_sets=0\n",
      "score: 13 (2, 1, 1) sets=1 best_inc=(3, 1, 1) new_sets=1\n",
      "score: 10 (3, 1, 0) sets=0 best_inc=(3, 1, 1) new_sets=1\n",
      "score: 8 (2, 2, 0) sets=0 best_inc=(2, 2, 1) new_sets=1\n",
      "\n",
      "---5 symbols\n",
      "score: 25 (5, 0, 0) sets=0 best_inc=(5, 1, 0) new_sets=0\n",
      "score: 18 (3, 1, 1) sets=1 best_inc=(4, 1, 1) new_sets=1\n",
      "score: 17 (4, 1, 0) sets=0 best_inc=(5, 1, 0) new_sets=0\n",
      "score: 16 (2, 2, 1) sets=1 best_inc=(2, 2, 2) new_sets=2\n",
      "score: 13 (3, 2, 0) sets=0 best_inc=(3, 2, 1) new_sets=1\n",
      "\n",
      "---6 symbols\n",
      "score: 26 (5, 1, 0) sets=0 best_inc=(5, 1, 1) new_sets=1\n",
      "score: 26 (2, 2, 2) sets=2 best_inc=(3, 2, 2) new_sets=2\n",
      "score: 25 (4, 1, 1) sets=1 best_inc=(5, 1, 1) new_sets=1\n",
      "score: 21 (3, 2, 1) sets=1 best_inc=(3, 2, 2) new_sets=2\n",
      "score: 20 (4, 2, 0) sets=0 best_inc=(5, 2, 0) new_sets=0\n",
      "score: 18 (3, 3, 0) sets=0 best_inc=(3, 3, 1) new_sets=1\n",
      "\n",
      "---7 symbols\n",
      "score: 34 (5, 1, 1) sets=1 best_inc=(5, 2, 1) new_sets=1\n",
      "score: 31 (3, 2, 2) sets=2 best_inc=(4, 2, 2) new_sets=2\n",
      "score: 29 (5, 2, 0) sets=0 best_inc=(5, 2, 1) new_sets=1\n",
      "score: 28 (4, 2, 1) sets=1 best_inc=(4, 2, 2) new_sets=2\n",
      "score: 26 (3, 3, 1) sets=1 best_inc=(3, 3, 2) new_sets=2\n",
      "score: 25 (4, 3, 0) sets=0 best_inc=(5, 3, 0) new_sets=0\n",
      "\n",
      "---8 symbols\n",
      "score: 38 (4, 2, 2) sets=2 best_inc=(5, 2, 2) new_sets=2\n",
      "score: 37 (5, 2, 1) sets=1 best_inc=(5, 2, 2) new_sets=2\n",
      "score: 36 (3, 3, 2) sets=2 best_inc=(3, 3, 3) new_sets=3\n",
      "score: 34 (5, 3, 0) sets=0 best_inc=(5, 3, 1) new_sets=1\n",
      "score: 33 (4, 3, 1) sets=1 best_inc=(4, 3, 2) new_sets=2\n",
      "score: 32 (4, 4, 0) sets=0 best_inc=(5, 4, 0) new_sets=0\n",
      "\n",
      "---9 symbols\n",
      "score: 48 (3, 3, 3) sets=3 best_inc=(4, 3, 3) new_sets=3\n",
      "score: 47 (5, 2, 2) sets=2 best_inc=(5, 3, 2) new_sets=2\n",
      "score: 43 (4, 3, 2) sets=2 best_inc=(4, 3, 3) new_sets=3\n",
      "score: 42 (5, 3, 1) sets=1 best_inc=(5, 3, 2) new_sets=2\n",
      "score: 41 (5, 4, 0) sets=0 best_inc=(5, 5, 0) new_sets=0\n",
      "score: 40 (4, 4, 1) sets=1 best_inc=(4, 4, 2) new_sets=2\n",
      "\n",
      "---10 symbols\n",
      "score: 55 (4, 3, 3) sets=3 best_inc=(5, 3, 3) new_sets=3\n",
      "score: 52 (5, 3, 2) sets=2 best_inc=(5, 3, 3) new_sets=3\n",
      "score: 50 (5, 5, 0) sets=0 best_inc=(5, 5, 1) new_sets=1\n",
      "score: 50 (4, 4, 2) sets=2 best_inc=(4, 4, 3) new_sets=3\n",
      "score: 49 (5, 4, 1) sets=1 best_inc=(5, 4, 2) new_sets=2\n",
      "\n",
      "---11 symbols\n",
      "score: 64 (5, 3, 3) sets=3 best_inc=(5, 4, 3) new_sets=3\n",
      "score: 62 (4, 4, 3) sets=3 best_inc=(4, 4, 4) new_sets=4\n",
      "score: 59 (5, 4, 2) sets=2 best_inc=(5, 4, 3) new_sets=3\n",
      "score: 58 (5, 5, 1) sets=1 best_inc=(5, 5, 2) new_sets=2\n",
      "\n",
      "---12 symbols\n",
      "score: 76 (4, 4, 4) sets=4 best_inc=(5, 4, 4) new_sets=4\n",
      "score: 71 (5, 4, 3) sets=3 best_inc=(5, 4, 4) new_sets=4\n",
      "score: 68 (5, 5, 2) sets=2 best_inc=(5, 5, 3) new_sets=3\n",
      "\n",
      "---13 symbols\n",
      "score: 85 (5, 4, 4) sets=4 best_inc=(5, 5, 4) new_sets=4\n",
      "score: 80 (5, 5, 3) sets=3 best_inc=(5, 5, 4) new_sets=4\n",
      "\n",
      "---14 symbols\n",
      "score: 94 (5, 5, 4) sets=4 best_inc=(5, 5, 5) new_sets=5\n",
      "\n"
     ]
    },
    {
     "ename": "TypeError",
     "evalue": "'NoneType' object is not iterable",
     "output_type": "error",
     "traceback": [
      "\u001b[0;31m---------------------------------------------------------------------------\u001b[0m",
      "\u001b[0;31mTypeError\u001b[0m                                 Traceback (most recent call last)",
      "\u001b[0;32m<ipython-input-29-6f92584b9d92>\u001b[0m in \u001b[0;36m<module>\u001b[0;34m\u001b[0m\n\u001b[1;32m      3\u001b[0m \u001b[0;32mfor\u001b[0m \u001b[0mtot_sym\u001b[0m \u001b[0;32min\u001b[0m \u001b[0mrange\u001b[0m\u001b[0;34m(\u001b[0m\u001b[0;36m0\u001b[0m\u001b[0;34m,\u001b[0m\u001b[0;36m16\u001b[0m\u001b[0;34m)\u001b[0m\u001b[0;34m:\u001b[0m\u001b[0;34m\u001b[0m\u001b[0;34m\u001b[0m\u001b[0m\n\u001b[1;32m      4\u001b[0m \u001b[0;34m\u001b[0m\u001b[0m\n\u001b[0;32m----> 5\u001b[0;31m     out = [f'score: {score} {symbols} sets={min(symbols)} best_inc={best_increment(symbols)} new_sets={min(best_increment(symbols))}' \n\u001b[0m\u001b[1;32m      6\u001b[0m      for (score,symbols) in res if sum(symbols)==tot_sym]\n\u001b[1;32m      7\u001b[0m \u001b[0;34m\u001b[0m\u001b[0m\n",
      "\u001b[0;32m<ipython-input-29-6f92584b9d92>\u001b[0m in \u001b[0;36m<listcomp>\u001b[0;34m(.0)\u001b[0m\n\u001b[1;32m      3\u001b[0m \u001b[0;32mfor\u001b[0m \u001b[0mtot_sym\u001b[0m \u001b[0;32min\u001b[0m \u001b[0mrange\u001b[0m\u001b[0;34m(\u001b[0m\u001b[0;36m0\u001b[0m\u001b[0;34m,\u001b[0m\u001b[0;36m16\u001b[0m\u001b[0;34m)\u001b[0m\u001b[0;34m:\u001b[0m\u001b[0;34m\u001b[0m\u001b[0;34m\u001b[0m\u001b[0m\n\u001b[1;32m      4\u001b[0m \u001b[0;34m\u001b[0m\u001b[0m\n\u001b[0;32m----> 5\u001b[0;31m     out = [f'score: {score} {symbols} sets={min(symbols)} best_inc={best_increment(symbols)} new_sets={min(best_increment(symbols))}' \n\u001b[0m\u001b[1;32m      6\u001b[0m      for (score,symbols) in res if sum(symbols)==tot_sym]\n\u001b[1;32m      7\u001b[0m \u001b[0;34m\u001b[0m\u001b[0m\n",
      "\u001b[0;31mTypeError\u001b[0m: 'NoneType' object is not iterable"
     ]
    }
   ],
   "source": [
    "res = sorted(((score,symbols) for (symbols,score) in scores.items()), reverse=True)\n",
    "\n",
    "for tot_sym in range(0,15):\n",
    "    \n",
    "    out = [f'score: {score} {symbols} sets={min(symbols)} best_inc={best_increment(symbols)} new_sets={min(best_increment(symbols))}' \n",
    "     for (score,symbols) in res if sum(symbols)==tot_sym]\n",
    "    \n",
    "    print(f\"---{tot_sym} symbols\")\n",
    "    for text in out: print(text)\n",
    "    print()"
   ]
  },
  {
   "cell_type": "code",
   "execution_count": null,
   "metadata": {},
   "outputs": [],
   "source": []
  }
 ],
 "metadata": {
  "kernelspec": {
   "display_name": "Python 3",
   "language": "python",
   "name": "python3"
  },
  "language_info": {
   "codemirror_mode": {
    "name": "ipython",
    "version": 3
   },
   "file_extension": ".py",
   "mimetype": "text/x-python",
   "name": "python",
   "nbconvert_exporter": "python",
   "pygments_lexer": "ipython3",
   "version": "3.8.3"
  }
 },
 "nbformat": 4,
 "nbformat_minor": 4
}
