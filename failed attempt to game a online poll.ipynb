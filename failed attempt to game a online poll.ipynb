{
 "cells": [
  {
   "cell_type": "code",
   "execution_count": 98,
   "metadata": {},
   "outputs": [],
   "source": [
    "import requests\n",
    "from time import sleep\n",
    "import webbrowser\n",
    "from urllib.parse import urlencode\n",
    "from uuid import uuid4"
   ]
  },
  {
   "cell_type": "code",
   "execution_count": 99,
   "metadata": {},
   "outputs": [
    {
     "data": {
      "text/plain": [
       "'26a1b7228ee64aaabb52b9b298e92bce'"
      ]
     },
     "execution_count": 99,
     "metadata": {},
     "output_type": "execute_result"
    }
   ],
   "source": []
  },
  {
   "cell_type": "markdown",
   "metadata": {},
   "source": [
    "url = 'https://polls.polldaddy.com/vote-js.php'\n",
    "\n",
    "params = {\n",
    "    'p': '11136641',\n",
    "    'b': '0',\n",
    "    'a': '51001930,',\n",
    "    'o': '',\n",
    "    'va': '16',\n",
    "    'cookie': '0',\n",
    "    'tags': '11136641-src:poll-embed',\n",
    "    'n': '847b66283d|575',\n",
    "    'url': 'https://ky.milesplit.com/articles/315992/2022-state-championships-female-performance-of-the-year',\n",
    "}\n",
    "\n",
    "headers = {\n",
    "'accept': '*/*',\n",
    "'accept-encoding': 'gzip, deflate, br',\n",
    "'accept-language': 'en-US,en;q=0.9',\n",
    "'referer': 'https://ky.milesplit.com/',\n",
    "'sec-fetch-dest': 'script',\n",
    "'sec-fetch-mode': 'no-cors',\n",
    "'sec-fetch-site': 'cross-site',\n",
    "'sec-gpc': '1',\n",
    "'user-agent':'Mozilla/5.0 (Macintosh; Intel Mac OS X 10_15_7) AppleWebKit/537.36 (KHTML, like Gecko) Chrome/101.0.4951.67 Safari/537.36'\n",
    "}"
   ]
  },
  {
   "cell_type": "code",
   "execution_count": 69,
   "metadata": {},
   "outputs": [
    {
     "name": "stdout",
     "output_type": "stream",
     "text": [
      "pz='381'\n",
      "t='8462'\n",
      "n='18b6a87754b7d0354044b01a959b19ec'\n"
     ]
    }
   ],
   "source": [
    "import re\n",
    "pz_pattern = re.compile(r\"<input type='hidden' name='pz' value='(?P<pz>\\d*)'>\")\n",
    "t_pattern = re.compile(r\"&quot;t&quot;:(?P<t>\\d*),\")\n",
    "n_pattern = re.compile(r\"&quot;n&quot;:&quot;(?P<n>[^&]*)&quot;\")\n",
    "                       \n",
    "pz = pz_pattern.search(poll.text).group('pz')\n",
    "print(f'{pz=}')\n",
    "\n",
    "t = t_pattern.search(poll.text).group('t')\n",
    "print(f'{t=}')\n",
    "\n",
    "n = n_pattern.search(poll.text).group('n')\n",
    "print(f'{n=}')"
   ]
  },
  {
   "cell_type": "code",
   "execution_count": 75,
   "metadata": {},
   "outputs": [
    {
     "name": "stdout",
     "output_type": "stream",
     "text": [
      "PD_REQ_AUTH 98391743184a0d74b102017ab09ae9c0\n"
     ]
    }
   ],
   "source": [
    "poll = requests.get('https://poll.fm/11136641')\n",
    "for c in poll.cookies:\n",
    "    print(c.name,c.value)"
   ]
  },
  {
   "cell_type": "code",
   "execution_count": 114,
   "metadata": {},
   "outputs": [],
   "source": [
    "def use_request():\n",
    "    \n",
    "    poll = requests.get('https://poll.fm/11136641')\n",
    "    pz = pz_pattern.search(poll.text).group('pz')\n",
    "    t = t_pattern.search(poll.text).group('t')\n",
    "    n = n_pattern.search(poll.text).group('n')\n",
    "    cookie = poll.cookies['PD_REQ_AUTH']\n",
    "    print(f'found cookie: {cookie}')\n",
    "    \n",
    "    #emulate human voting time\n",
    "    sleep(2)\n",
    "    \n",
    "    url = 'https://poll.fm/vote'\n",
    "    params = {\n",
    "        'va': '50',\n",
    "        'pt': '0',\n",
    "        'r': '0',\n",
    "        'p': '11136641',\n",
    "        'a': '51001930,',\n",
    "        'o': '',\n",
    "        't': t,\n",
    "        'token': n,\n",
    "        'pz': pz\n",
    "    }\n",
    "    headers = {\n",
    "        'accept': 'text/html,application/xhtml+xml,application/xml;q=0.9,image/avif,image/webp,image/apng,*/*;q=0.8,application/signed-exchange;v=b3;q=0.9',\n",
    "        'accept-encoding': 'gzip, deflate, br',\n",
    "        'accept-language': 'en-US,en;q=0.9',\n",
    "        'cookie': f'PD_REQ_AUTH={cookie}',\n",
    "        'referer': 'https://poll.fm/11136641',\n",
    "        'sec-fetch-dest': 'document',\n",
    "        'sec-fetch-mode': 'navigate',\n",
    "        'sec-fetch-site': 'same-origin',\n",
    "        'sec-fetch-user': '?1',\n",
    "        'sec-gpc': '1',\n",
    "        'upgrade-insecure-requests': '1',\n",
    "        'user-agent': 'Mozilla/5.0 (Macintosh; Intel Mac OS X 10_15_7) AppleWebKit/537.36 (KHTML, like Gecko) Chrome/101.0.4951.67 Safari/537.36'\n",
    "    }\n",
    "    cookies = {'PD_REQ_AUTH':cookie}\n",
    "    \n",
    "    \n",
    "    resp = requests.get(url, params, headers=headers, cookies=cookies)\n",
    "    if times > 0:\n",
    "        # we're testing still\n",
    "        print(f'{pz=}')\n",
    "        print(f'{t=}')\n",
    "        print(f'{n=}')\n",
    "        print(f'{cookie=}')\n",
    "        print(f'{resp.url=}')\n",
    "        print(f'{resp.status_code=}')\n",
    "        for h in resp.history:\n",
    "            print(f'{h}')\n",
    "            print(f'\\t{len(h.cookies)=}')\n",
    "            for c in h.cookies:\n",
    "                print(f'\\t{c.name} {c.value}')\n",
    "        print(f'{len(resp.cookies)=}')\n",
    "        for c in h.cookies:\n",
    "                print(f'{c.name} {c.value}')\n"
   ]
  },
  {
   "cell_type": "code",
   "execution_count": 115,
   "metadata": {},
   "outputs": [
    {
     "name": "stdout",
     "output_type": "stream",
     "text": [
      "found cookie: b3773612a41fe59313b80d0b7aa38fa9\n",
      "pz='241'\n",
      "t='12075'\n",
      "n='efbaf2d61e7f39d4097f1940849e29dd'\n",
      "cookie='b3773612a41fe59313b80d0b7aa38fa9'\n",
      "resp.url='https://poll.fm/11136641/results?msg=revoted&stokenFound'\n",
      "resp.status_code=200\n",
      "<Response [302]>\n",
      "\tlen(h.cookies)=0\n",
      "len(resp.cookies)=1\n",
      "voted 1 times\n"
     ]
    }
   ],
   "source": [
    "votes = 0\n",
    "times = 1\n",
    "while votes < times:\n",
    "    use_request()\n",
    "    #use_browser()\n",
    "    votes+=1\n",
    "    if times>1: sleep(5)\n",
    "    \n",
    "print(f'voted {votes} times')"
   ]
  },
  {
   "cell_type": "code",
   "execution_count": 97,
   "metadata": {},
   "outputs": [
    {
     "data": {
      "text/plain": [
       "32"
      ]
     },
     "execution_count": 97,
     "metadata": {},
     "output_type": "execute_result"
    }
   ],
   "source": [
    "len('1f42ba3fb9731809a63d4b329ee3c995')\n"
   ]
  },
  {
   "cell_type": "code",
   "execution_count": null,
   "metadata": {},
   "outputs": [],
   "source": []
  }
 ],
 "metadata": {
  "kernelspec": {
   "display_name": "Python 3",
   "language": "python",
   "name": "python3"
  },
  "language_info": {
   "codemirror_mode": {
    "name": "ipython",
    "version": 3
   },
   "file_extension": ".py",
   "mimetype": "text/x-python",
   "name": "python",
   "nbconvert_exporter": "python",
   "pygments_lexer": "ipython3",
   "version": "3.8.3"
  }
 },
 "nbformat": 4,
 "nbformat_minor": 4
}
