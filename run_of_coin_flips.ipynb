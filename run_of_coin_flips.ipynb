{
 "cells": [
  {
   "cell_type": "code",
   "execution_count": 48,
   "metadata": {
    "scrolled": true
   },
   "outputs": [
    {
     "name": "stdout",
     "output_type": "stream",
     "text": [
      "experiment number 0\n",
      "6\n",
      "experiment number 1\n",
      "59\n",
      "experiment number 2\n",
      "91\n",
      "experiment number 3\n",
      "145\n",
      "experiment number 4\n",
      "150\n",
      "experiment number 5\n",
      "174\n",
      "experiment number 6\n",
      "201\n",
      "experiment number 7\n",
      "225\n",
      "experiment number 8\n",
      "256\n",
      "experiment number 9\n",
      "283\n",
      "experiment number 10\n",
      "318\n",
      "experiment number 11\n",
      "355\n",
      "experiment number 12\n",
      "383\n",
      "experiment number 13\n",
      "391\n",
      "experiment number 14\n",
      "403\n",
      "experiment number 15\n",
      "410\n",
      "experiment number 16\n",
      "419\n",
      "experiment number 17\n",
      "426\n",
      "experiment number 18\n",
      "476\n",
      "experiment number 19\n",
      "521\n",
      "experiment number 20\n",
      "605\n",
      "experiment number 21\n",
      "620\n",
      "experiment number 22\n",
      "625\n",
      "experiment number 23\n",
      "635\n",
      "experiment number 24\n",
      "676\n",
      "experiment number 25\n",
      "717\n",
      "experiment number 26\n",
      "831\n",
      "experiment number 27\n",
      "850\n",
      "experiment number 28\n",
      "873\n",
      "experiment number 29\n",
      "955\n",
      "experiment number 30\n",
      "967\n",
      "experiment number 31\n",
      "1004\n",
      "experiment number 32\n",
      "1054\n",
      "experiment number 33\n",
      "1060\n",
      "experiment number 34\n",
      "1081\n",
      "experiment number 35\n",
      "1104\n",
      "experiment number 36\n",
      "1120\n",
      "experiment number 37\n",
      "1129\n",
      "experiment number 38\n",
      "1149\n",
      "experiment number 39\n",
      "1155\n",
      "experiment number 40\n",
      "1161\n",
      "experiment number 41\n",
      "1168\n",
      "experiment number 42\n",
      "1183\n",
      "experiment number 43\n",
      "1230\n",
      "experiment number 44\n",
      "1306\n",
      "experiment number 45\n",
      "1315\n",
      "experiment number 46\n",
      "1322\n",
      "experiment number 47\n",
      "1367\n",
      "experiment number 48\n",
      "1388\n",
      "experiment number 49\n",
      "1482\n",
      "experiment number 50\n",
      "1487\n",
      "experiment number 51\n",
      "1553\n",
      "experiment number 52\n",
      "1561\n",
      "experiment number 53\n",
      "1575\n",
      "experiment number 54\n",
      "1587\n",
      "experiment number 55\n",
      "1601\n",
      "experiment number 56\n",
      "1627\n",
      "experiment number 57\n",
      "1642\n",
      "experiment number 58\n",
      "1715\n",
      "experiment number 59\n",
      "1742\n",
      "experiment number 60\n",
      "1748\n",
      "experiment number 61\n",
      "1779\n",
      "experiment number 62\n",
      "1784\n",
      "experiment number 63\n",
      "1816\n",
      "experiment number 64\n",
      "1828\n",
      "experiment number 65\n",
      "1833\n",
      "experiment number 66\n",
      "1843\n",
      "experiment number 67\n",
      "1853\n",
      "experiment number 68\n",
      "1881\n",
      "experiment number 69\n",
      "1907\n",
      "experiment number 70\n",
      "1919\n",
      "experiment number 71\n",
      "1928\n",
      "experiment number 72\n",
      "1971\n",
      "experiment number 73\n",
      "2013\n",
      "experiment number 74\n",
      "2029\n",
      "experiment number 75\n",
      "2146\n",
      "experiment number 76\n",
      "2176\n",
      "experiment number 77\n",
      "2183\n",
      "experiment number 78\n",
      "2205\n",
      "experiment number 79\n",
      "2222\n",
      "experiment number 80\n",
      "2277\n",
      "experiment number 81\n",
      "2296\n",
      "experiment number 82\n",
      "2333\n",
      "experiment number 83\n",
      "2374\n",
      "experiment number 84\n",
      "2380\n",
      "experiment number 85\n",
      "2421\n",
      "experiment number 86\n",
      "2462\n",
      "experiment number 87\n",
      "2490\n",
      "experiment number 88\n",
      "2510\n",
      "experiment number 89\n",
      "2516\n",
      "experiment number 90\n",
      "2598\n",
      "experiment number 91\n",
      "2612\n",
      "experiment number 92\n",
      "2620\n",
      "experiment number 93\n",
      "2625\n",
      "experiment number 94\n",
      "2631\n",
      "experiment number 95\n",
      "2643\n",
      "experiment number 96\n",
      "2681\n",
      "experiment number 97\n",
      "2693\n",
      "experiment number 98\n",
      "2707\n",
      "experiment number 99\n",
      "2713\n",
      "27.13\n",
      "CPU times: user 4.91 ms, sys: 3.03 ms, total: 7.93 ms\n",
      "Wall time: 5.55 ms\n"
     ]
    }
   ],
   "source": [
    "%%time\n",
    "import random\n",
    "run = 0\n",
    "last = None\n",
    "flips = 0\n",
    "num_trials = 100.0\n",
    "\n",
    "for i in range(int(num_trials)):\n",
    "    print(f\"experiment number {i}\")\n",
    "    run = 0\n",
    "    last = None\n",
    "    while (run < 5):\n",
    "        flips += 1\n",
    "        if random.random() < 0.50: #got tails\n",
    "            if last == 'Tails':\n",
    "                run += 1\n",
    "            else:\n",
    "                run = 1\n",
    "            #print('Tails')\n",
    "            last = 'Tails' \n",
    "        else: #got heads\n",
    "            if last == 'Heads':\n",
    "                run += 1\n",
    "            else:\n",
    "                run = 1\n",
    "            #print('Heads')\n",
    "            last = 'Heads'\n",
    "    print(flips)\n",
    "print(flips/num_trials)"
   ]
  },
  {
   "cell_type": "code",
   "execution_count": 26,
   "metadata": {
    "collapsed": true
   },
   "outputs": [
    {
     "name": "stdout",
     "output_type": "stream",
     "text": [
      "2\n"
     ]
    }
   ],
   "source": [
    "run = 2\n",
    "print(run)"
   ]
  },
  {
   "cell_type": "code",
   "execution_count": 27,
   "metadata": {},
   "outputs": [
    {
     "data": {
      "text/plain": [
       "False"
      ]
     },
     "execution_count": 27,
     "metadata": {},
     "output_type": "execute_result"
    }
   ],
   "source": [
    "run == 1"
   ]
  },
  {
   "cell_type": "code",
   "execution_count": 31,
   "metadata": {},
   "outputs": [],
   "source": [
    "run += 5"
   ]
  },
  {
   "cell_type": "code",
   "execution_count": 32,
   "metadata": {},
   "outputs": [
    {
     "data": {
      "text/plain": [
       "15"
      ]
     },
     "execution_count": 32,
     "metadata": {},
     "output_type": "execute_result"
    }
   ],
   "source": [
    "run"
   ]
  },
  {
   "cell_type": "code",
   "execution_count": 49,
   "metadata": {},
   "outputs": [
    {
     "data": {
      "text/plain": [
       "22.627416997969522"
      ]
     },
     "execution_count": 49,
     "metadata": {},
     "output_type": "execute_result"
    }
   ],
   "source": [
    "pow(2,4.5)"
   ]
  },
  {
   "cell_type": "code",
   "execution_count": 51,
   "metadata": {},
   "outputs": [
    {
     "data": {
      "text/plain": [
       "1.4313637641589871"
      ]
     },
     "execution_count": 51,
     "metadata": {},
     "output_type": "execute_result"
    }
   ],
   "source": [
    "import math\n",
    "math.log(27)/math.log(10)"
   ]
  },
  {
   "cell_type": "code",
   "execution_count": null,
   "metadata": {},
   "outputs": [],
   "source": []
  }
 ],
 "metadata": {
  "kernelspec": {
   "display_name": "Python 3",
   "language": "python",
   "name": "python3"
  },
  "language_info": {
   "codemirror_mode": {
    "name": "ipython",
    "version": 3
   },
   "file_extension": ".py",
   "mimetype": "text/x-python",
   "name": "python",
   "nbconvert_exporter": "python",
   "pygments_lexer": "ipython3",
   "version": "3.8.3"
  }
 },
 "nbformat": 4,
 "nbformat_minor": 4
}
