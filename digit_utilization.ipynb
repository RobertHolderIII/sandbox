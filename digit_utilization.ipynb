{
 "cells": [
  {
   "cell_type": "markdown",
   "id": "e6a935d9-d9ee-4b5b-afe7-f06112dd5f87",
   "metadata": {},
   "source": [
    "## find numbers whose square and cube, combined, use every digit exactly once\n",
    "from: https://www.facebook.com/MathJoy3435/posts/pfbid033K8ZMUahrRWighYKZGWFbY8SQT9GwyB8q7fTRep6BkeHrisufuKFfN13hdrD6KACl"
   ]
  },
  {
   "cell_type": "code",
   "execution_count": 8,
   "id": "a18f51ea-6859-42e8-b789-736047e9f419",
   "metadata": {},
   "outputs": [
    {
     "name": "stdout",
     "output_type": "stream",
     "text": [
      "69\n"
     ]
    }
   ],
   "source": [
    "n=1\n",
    "while True:\n",
    "    sq = n**2\n",
    "    cu = n**3\n",
    "    digits = list(str(sq)+str(cu))\n",
    "    \n",
    "    # make sure numbers haven't gotten too big\n",
    "    if len(digits) > 10:\n",
    "        break\n",
    "\n",
    "    # test for ten unique numbers\n",
    "    if len(set(digits)) == 10:\n",
    "        print(n)\n",
    "\n",
    "    # try next number\n",
    "    n += 1"
   ]
  },
  {
   "cell_type": "code",
   "execution_count": null,
   "id": "4a61c105-b1bd-494f-8c4b-61bbac2bd6c7",
   "metadata": {},
   "outputs": [],
   "source": []
  }
 ],
 "metadata": {
  "kernelspec": {
   "display_name": "Python 3 (ipykernel)",
   "language": "python",
   "name": "python3"
  },
  "language_info": {
   "codemirror_mode": {
    "name": "ipython",
    "version": 3
   },
   "file_extension": ".py",
   "mimetype": "text/x-python",
   "name": "python",
   "nbconvert_exporter": "python",
   "pygments_lexer": "ipython3",
   "version": "3.12.9"
  }
 },
 "nbformat": 4,
 "nbformat_minor": 5
}
