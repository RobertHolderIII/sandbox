{
 "cells": [
  {
   "cell_type": "code",
   "execution_count": 24,
   "metadata": {},
   "outputs": [
    {
     "data": {
      "text/plain": [
       "[4, 4, 4, 3, 5]"
      ]
     },
     "execution_count": 24,
     "metadata": {},
     "output_type": "execute_result"
    }
   ],
   "source": [
    "import random\n",
    "def roll(n_dice=1):\n",
    "    return [random.randrange(1,7) for _ in range(n_dice)]\n",
    "roll(5)"
   ]
  },
  {
   "cell_type": "code",
   "execution_count": 22,
   "metadata": {},
   "outputs": [
    {
     "name": "stdout",
     "output_type": "stream",
     "text": [
      "[3, 4, 5, 5, 6, 7]\n",
      "[7]\n"
     ]
    }
   ],
   "source": [
    "def values(aroll):\n",
    "    for i in range(len(aroll)):\n",
    "        for j in range(i+1,len(aroll)):\n",
    "            yield aroll[i] + aroll[j]\n",
    "print(list(values([1,2,3,4])))\n",
    "print(list(values([3,4])))"
   ]
  },
  {
   "cell_type": "code",
   "execution_count": 31,
   "metadata": {},
   "outputs": [
    {
     "name": "stdout",
     "output_type": "stream",
     "text": [
      "CPU times: user 1min 5s, sys: 252 ms, total: 1min 5s\n",
      "Wall time: 1min 5s\n"
     ]
    }
   ],
   "source": [
    "%%time\n",
    "from collections import defaultdict\n",
    "res = defaultdict(int)\n",
    "\n",
    "trials = int(1e7)\n",
    "n_dice = 4\n",
    "\n",
    "for _ in range(trials):\n",
    "    v = set(values(roll(n_dice=n_dice)))\n",
    "    for v_i in v:\n",
    "        res[v_i] += 1"
   ]
  },
  {
   "cell_type": "code",
   "execution_count": 32,
   "metadata": {},
   "outputs": [
    {
     "name": "stdout",
     "output_type": "stream",
     "text": [
      "2: 0.132\n",
      "3: 0.233\n",
      "4: 0.356\n",
      "5: 0.447\n",
      "6: 0.561\n",
      "7: 0.644\n",
      "8: 0.561\n",
      "9: 0.447\n",
      "10: 0.355\n",
      "11: 0.233\n",
      "12: 0.132\n"
     ]
    }
   ],
   "source": [
    "for i in range(2,13):\n",
    "    print(f'{i}: {res[i]/trials:0.3f}')"
   ]
  },
  {
   "cell_type": "code",
   "execution_count": 69,
   "metadata": {},
   "outputs": [
    {
     "name": "stdout",
     "output_type": "stream",
     "text": [
      "{9, 5}: 0.692\n",
      "CPU times: user 666 ms, sys: 7.33 ms, total: 673 ms\n",
      "Wall time: 677 ms\n"
     ]
    }
   ],
   "source": [
    "%%time\n",
    "from collections import defaultdict\n",
    "res = defaultdict(int)\n",
    "\n",
    "trials = int(1e5)\n",
    "n_dice = 4\n",
    "targets = [set([5,9])]\n",
    "\n",
    "for _ in range(trials):\n",
    "    v = set(values(roll(n_dice=n_dice)))\n",
    "    for target in targets:\n",
    "        if len(set.intersection(target,v))>0:\n",
    "            res[frozenset(target)]+=1\n",
    "\n",
    "for target in targets:\n",
    "    print(f'{target}: {res[frozenset(target)]/trials:0.3f}')"
   ]
  },
  {
   "cell_type": "code",
   "execution_count": null,
   "metadata": {},
   "outputs": [],
   "source": []
  }
 ],
 "metadata": {
  "kernelspec": {
   "display_name": "Python 3",
   "language": "python",
   "name": "python3"
  },
  "language_info": {
   "codemirror_mode": {
    "name": "ipython",
    "version": 3
   },
   "file_extension": ".py",
   "mimetype": "text/x-python",
   "name": "python",
   "nbconvert_exporter": "python",
   "pygments_lexer": "ipython3",
   "version": "3.8.3"
  }
 },
 "nbformat": 4,
 "nbformat_minor": 4
}
