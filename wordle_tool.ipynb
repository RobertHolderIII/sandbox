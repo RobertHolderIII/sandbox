{
 "cells": [
  {
   "cell_type": "code",
   "execution_count": 23,
   "metadata": {},
   "outputs": [],
   "source": [
    "unused = ['e','t','p','d','g','h','c','n']\n",
    "misplaced = [\n",
    "    ('a',2,1),\n",
    "    ('r',2,3,1),\n",
    "    ('s',4,3),\n",
    "    ('o',2)\n",
    "]\n"
   ]
  },
  {
   "cell_type": "code",
   "execution_count": 50,
   "metadata": {},
   "outputs": [],
   "source": [
    "unused = list('nearspiumhwdlftckz')\n",
    "misplaced=[('o',0)]\n",
    "placed=[('o',1),('y',4),('b',0)]\n",
    "\n",
    "\n",
    "contains = list()\n"
   ]
  },
  {
   "cell_type": "code",
   "execution_count": 9,
   "metadata": {},
   "outputs": [],
   "source": [
    "unused = list('tlwgcbms')\n",
    "misplaced = []\n",
    "placed = [('a',1),('o',3),('n',4)]\n",
    "contains = list()"
   ]
  },
  {
   "cell_type": "code",
   "execution_count": 15,
   "metadata": {},
   "outputs": [
    {
     "data": {
      "text/plain": [
       "[('b', 0), ('l', 1), ('u', 2)]"
      ]
     },
     "execution_count": 15,
     "metadata": {},
     "output_type": "execute_result"
    }
   ],
   "source": [
    "unused = list('nearspivotky')\n",
    "misplaced = []\n",
    "placed_raw = 'blu..'\n",
    "placed = [tup for tup in zip(placed_raw,range(len(placed_raw))) if tup[0] != '_' and tup[0] != '.']\n",
    "contains = list()\n",
    "placed"
   ]
  },
  {
   "cell_type": "code",
   "execution_count": 17,
   "metadata": {},
   "outputs": [],
   "source": [
    "def is_possible(word, verbose=False):\n",
    "    if verbose: print(f'checking {word}')\n",
    "    if len(word) != 5: \n",
    "        if verbose: print('\\trejected for wrong length')\n",
    "        return False\n",
    "    word = word.lower()\n",
    "    for letter in unused:\n",
    "        if letter in word:\n",
    "            if verbose: print(f'\\trejected for containing {letter}')\n",
    "            return False\n",
    "    for letter in contains:\n",
    "        if letter not in word: \n",
    "            if verbose: print(f'\\trejected. must contain {letter}')\n",
    "            return False\n",
    "    for tup in placed:\n",
    "        letter = tup[0]\n",
    "        idx = tup[1]\n",
    "        if word[idx] != letter: \n",
    "            if verbose: print(f'\\trejected. must have {letter} at index {idx}')\n",
    "            return False\n",
    "    for tup in misplaced:\n",
    "        letter = tup[0]\n",
    "        if letter not in word: \n",
    "            if verbose: print(f'\\trejected. must contain {letter}')\n",
    "            return False\n",
    "        for i in range(1,len(tup)):\n",
    "            idx = tup[i]\n",
    "            if word[idx] == letter: \n",
    "                if verbose: print(f'\\trejected for having {letter} at index {idx}')\n",
    "                return False\n",
    "    return True\n"
   ]
  },
  {
   "cell_type": "code",
   "execution_count": 18,
   "metadata": {},
   "outputs": [
    {
     "name": "stdout",
     "output_type": "stream",
     "text": [
      "bluff\n"
     ]
    }
   ],
   "source": [
    "with open('wordlist.txt') as f:\n",
    "    for line in f:\n",
    "        word = line.strip()\n",
    "        if is_possible(word):\n",
    "            print(word)"
   ]
  },
  {
   "cell_type": "code",
   "execution_count": 14,
   "metadata": {},
   "outputs": [
    {
     "name": "stdout",
     "output_type": "stream",
     "text": [
      "checking bluff\n",
      "\trejected for containing l\n"
     ]
    },
    {
     "data": {
      "text/plain": [
       "False"
      ]
     },
     "execution_count": 14,
     "metadata": {},
     "output_type": "execute_result"
    }
   ],
   "source": [
    "is_possible('bluff',verbose=True)"
   ]
  },
  {
   "cell_type": "code",
   "execution_count": null,
   "metadata": {},
   "outputs": [],
   "source": []
  }
 ],
 "metadata": {
  "kernelspec": {
   "display_name": "Python 3",
   "language": "python",
   "name": "python3"
  },
  "language_info": {
   "codemirror_mode": {
    "name": "ipython",
    "version": 3
   },
   "file_extension": ".py",
   "mimetype": "text/x-python",
   "name": "python",
   "nbconvert_exporter": "python",
   "pygments_lexer": "ipython3",
   "version": "3.8.3"
  }
 },
 "nbformat": 4,
 "nbformat_minor": 4
}
