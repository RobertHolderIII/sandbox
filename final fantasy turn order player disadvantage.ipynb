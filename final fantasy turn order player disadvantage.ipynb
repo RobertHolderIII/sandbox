{
 "cells": [
  {
   "cell_type": "markdown",
   "metadata": {},
   "source": [
    "Per the section on turn order at https://gamefaqs.gamespot.com/nes/522595-final-fantasy/faqs/57009, turn order is scheduled by listing the ememies followed by the players, and swapping random index pairs."
   ]
  },
  {
   "cell_type": "code",
   "execution_count": 63,
   "metadata": {},
   "outputs": [
    {
     "data": {
      "text/plain": [
       "['e4', 'e2', 'e0', 'e3', 'e8', 'e7', 'e6', 'p', 'e5', 'p', 'e1', 'p', 'p']"
      ]
     },
     "execution_count": 63,
     "metadata": {},
     "output_type": "execute_result"
    }
   ],
   "source": [
    "from random import randint\n",
    "\n",
    "def make_sched():\n",
    "    sched = [f'e{i}' for i in range(9)] + ['p']*4\n",
    "    for _ in range(17):\n",
    "        a, b = randint(0,12), randint(0,12)\n",
    "        va, vb = sched[a], sched[b]\n",
    "        sched[a], sched[b] = vb, va\n",
    "    return sched\n",
    "make_sched()"
   ]
  },
  {
   "cell_type": "markdown",
   "metadata": {},
   "source": [
    "The final schedule is determined by skipping any enemies or players who are stunned, petrified, or dead"
   ]
  },
  {
   "cell_type": "code",
   "execution_count": 50,
   "metadata": {},
   "outputs": [
    {
     "name": "stdout",
     "output_type": "stream",
     "text": [
      "['e5', 'e0', 'e3', 'p', 'e4', 'e6', 'p', 'p', 'e1', 'e8', 'p', 'e2', 'e7']\n",
      "['e5', 'e0', 'e3', 'p', 'e4', 'e6', 'p', 'p', 'e1', 'e8', 'p', 'e2', 'e7']\n"
     ]
    },
    {
     "data": {
      "text/plain": [
       "['e0', 'p', 'p']"
      ]
     },
     "execution_count": 50,
     "metadata": {},
     "output_type": "execute_result"
    }
   ],
   "source": [
    "def make_fsched(s, elist=None, np=4):\n",
    "    \"\"\"\n",
    "    :param s: shuffled order of enemies and player characters\n",
    "    :param elist: list of enemy ids that are eligible for an action. None if they all are eligible.\n",
    "    :param np: number of players that are eligible for an action\n",
    "    \"\"\"\n",
    "    # create final schedule\n",
    "    ne = 9 if elist is None else len(elist)\n",
    "    fs = []\n",
    "    e = 0\n",
    "    p = 0\n",
    "    for item in s:\n",
    "        if item == 'p' and p < np:\n",
    "            fs.append(item)\n",
    "            p += 1\n",
    "        elif (elist is None) or (item in elist):\n",
    "            fs.append(item)\n",
    "    assert len(fs)==ne+np, fs\n",
    "    return fs\n",
    "\n",
    "stest = make_sched()\n",
    "print(stest)\n",
    "print(make_fsched(stest))\n",
    "make_fsched(stest, elist=['e0'], np=2)"
   ]
  },
  {
   "cell_type": "code",
   "execution_count": 47,
   "metadata": {},
   "outputs": [],
   "source": [
    "slist = [make_sched() for _ in range(100)]"
   ]
  },
  {
   "cell_type": "markdown",
   "metadata": {},
   "source": [
    "Original code did not consider specific enemy ids, resulting in odd results.  E.g. if any enemy was is a slot, it was assigned to the schedule even if that specific id would have been ineligible.\n",
    "\n",
    "Now we assume that ids `e{0}..e{num enemies-1}` are eligible, and the rest are not."
   ]
  },
  {
   "cell_type": "code",
   "execution_count": 62,
   "metadata": {},
   "outputs": [
    {
     "name": "stdout",
     "output_type": "stream",
     "text": [
      "ne=1:\n",
      "\t{0: 0.72, 1: 0.78, 2: 0.82, 3: 0.85, 4: 0.83}\n",
      "\t{0: -0.08, 1: -0.02, 2: 0.02, 3: 0.05, 4: 0.03}\n",
      "ne=2:\n",
      "\t{0: 0.61, 1: 0.59, 2: 0.74, 3: 0.64, 4: 0.75, 5: 0.67}\n",
      "\t{0: -0.06, 1: -0.08, 2: 0.07, 3: -0.03, 4: 0.08, 5: 0.0}\n",
      "ne=3:\n",
      "\t{0: 0.52, 1: 0.51, 2: 0.58, 3: 0.61, 4: 0.52, 5: 0.65, 6: 0.61}\n",
      "\t{0: -0.05, 1: -0.06, 2: 0.01, 3: 0.04, 4: -0.05, 5: 0.08, 6: 0.04}\n",
      "ne=4:\n",
      "\t{0: 0.46, 1: 0.41, 2: 0.49, 3: 0.46, 4: 0.57, 5: 0.53, 6: 0.54, 7: 0.54}\n",
      "\t{0: -0.04, 1: -0.09, 2: -0.01, 3: -0.04, 4: 0.07, 5: 0.03, 6: 0.04, 7: 0.04}\n",
      "ne=5:\n",
      "\t{0: 0.41, 1: 0.4, 2: 0.41, 3: 0.35, 4: 0.5, 5: 0.5, 6: 0.48, 7: 0.46, 8: 0.49}\n",
      "\t{0: -0.03, 1: -0.04, 2: -0.03, 3: -0.09, 4: 0.06, 5: 0.06, 6: 0.04, 7: 0.02, 8: 0.05}\n",
      "ne=6:\n",
      "\t{0: 0.39, 1: 0.33, 2: 0.42, 3: 0.27, 4: 0.38, 5: 0.43, 6: 0.5, 7: 0.43, 8: 0.38, 9: 0.47}\n",
      "\t{0: -0.01, 1: -0.07, 2: 0.02, 3: -0.13, 4: -0.02, 5: 0.03, 6: 0.1, 7: 0.03, 8: -0.02, 9: 0.07}\n",
      "ne=7:\n",
      "\t{0: 0.36, 1: 0.33, 2: 0.36, 3: 0.28, 4: 0.31, 5: 0.32, 6: 0.42, 7: 0.44, 8: 0.39, 9: 0.33, 10: 0.46}\n",
      "\t{0: -0.0, 1: -0.03, 2: -0.0, 3: -0.08, 4: -0.05, 5: -0.04, 6: 0.06, 7: 0.08, 8: 0.03, 9: -0.03, 10: 0.1}\n",
      "ne=8:\n",
      "\t{0: 0.31, 1: 0.32, 2: 0.36, 3: 0.25, 4: 0.28, 5: 0.3, 6: 0.29, 7: 0.37, 8: 0.46, 9: 0.31, 10: 0.34, 11: 0.41}\n",
      "\t{0: -0.02, 1: -0.01, 2: 0.03, 3: -0.08, 4: -0.05, 5: -0.03, 6: -0.04, 7: 0.04, 8: 0.13, 9: -0.02, 10: 0.01, 11: 0.08}\n",
      "ne=9:\n",
      "\t{0: 0.28, 1: 0.24, 2: 0.38, 3: 0.25, 4: 0.25, 5: 0.27, 6: 0.28, 7: 0.29, 8: 0.35, 9: 0.39, 10: 0.32, 11: 0.31, 12: 0.39}\n",
      "\t{0: -0.03, 1: -0.07, 2: 0.07, 3: -0.06, 4: -0.06, 5: -0.04, 6: -0.03, 7: -0.02, 8: 0.04, 9: 0.08, 10: 0.01, 11: 0.0, 12: 0.08}\n"
     ]
    }
   ],
   "source": [
    "np = 4\n",
    "for ne in range(1,10):\n",
    "    # make final schedules for number of enemies\n",
    "    fslist = [make_fsched(s,elist=[f'e{i}' for i in range(ne)]) for s in slist]\n",
    "    \n",
    "    # for each slot, get the percentage of player values\n",
    "    slot_pct = {}\n",
    "    for slot in range(np+ne):\n",
    "        slots = [fs[slot] for fs in fslist]\n",
    "        slot_pct[slot] = slots.count('p')/len(slots)\n",
    "    \n",
    "    print(f'{ne=}:\\n\\t{slot_pct}')\n",
    "    \n",
    "    # compare to expected percentage of player values\n",
    "    expected = np/(np+ne)\n",
    "    disadv = {k:round(act-expected,2) for k,act in slot_pct.items()}\n",
    "    print(f'\\t{disadv}')\n",
    "    "
   ]
  },
  {
   "cell_type": "code",
   "execution_count": null,
   "metadata": {},
   "outputs": [],
   "source": []
  }
 ],
 "metadata": {
  "kernelspec": {
   "display_name": "Python 3",
   "language": "python",
   "name": "python3"
  },
  "language_info": {
   "codemirror_mode": {
    "name": "ipython",
    "version": 3
   },
   "file_extension": ".py",
   "mimetype": "text/x-python",
   "name": "python",
   "nbconvert_exporter": "python",
   "pygments_lexer": "ipython3",
   "version": "3.8.3"
  }
 },
 "nbformat": 4,
 "nbformat_minor": 4
}
