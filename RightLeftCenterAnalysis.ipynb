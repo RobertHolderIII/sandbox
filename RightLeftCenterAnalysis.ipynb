{
 "cells": [
  {
   "cell_type": "markdown",
   "metadata": {},
   "source": [
    "# Right Left Center game analysis\n",
    "Right Left Center is a game consisting of n players each starting with three tokens.  Each player in turn rolls one, two, or three dice, each die with sides star, left, right, and three dots.  For each star, the player loses a token to the center; for each left, the player loses a token to the player on the left; for each right, the player loses a token to the player on the right.  A dot is the best side for a player, as it does not force a player to lose any tokens.  When a player has three or more tokens, the players rolls three dice.  When the player has zero, one, or two dice, the player rolls zero, one, or two dice.  The game is over when only one player has tokens, and that player is the winner."
   ]
  },
  {
   "cell_type": "markdown",
   "metadata": {},
   "source": [
    "## Define a die and a roll function"
   ]
  },
  {
   "cell_type": "code",
   "execution_count": 136,
   "metadata": {},
   "outputs": [
    {
     "data": {
      "text/plain": [
       "['right', 'right', 'o']"
      ]
     },
     "execution_count": 136,
     "metadata": {},
     "output_type": "execute_result"
    }
   ],
   "source": [
    "import random\n",
    "\n",
    "D = 'o'\n",
    "S = '*'\n",
    "L = 'left'\n",
    "R = 'right'\n",
    "die = [D,D,D,S,L,R]\n",
    "def get_roll(n_dice):\n",
    "    return [die[random.randint(0,5)] for _ in range(n_dice)]\n",
    "\n",
    "get_roll(3)"
   ]
  },
  {
   "cell_type": "markdown",
   "metadata": {},
   "source": [
    "## Detect end of game and the winner"
   ]
  },
  {
   "cell_type": "code",
   "execution_count": 137,
   "metadata": {},
   "outputs": [
    {
     "data": {
      "text/plain": [
       "True"
      ]
     },
     "execution_count": 137,
     "metadata": {},
     "output_type": "execute_result"
    }
   ],
   "source": [
    "from collections import Counter\n",
    "def game_over(tokens):\n",
    "    \"\"\"\n",
    "    game is over when only one player has tokens left\n",
    "    \"\"\"\n",
    "    token_counts = Counter(tokens)\n",
    "    return token_counts[0] == len(tokens)-1\n",
    "game_over([0,3,0])"
   ]
  },
  {
   "cell_type": "code",
   "execution_count": 138,
   "metadata": {},
   "outputs": [
    {
     "data": {
      "text/plain": [
       "1"
      ]
     },
     "execution_count": 138,
     "metadata": {},
     "output_type": "execute_result"
    }
   ],
   "source": [
    "def get_winner(tokens):\n",
    "    if game_over(tokens):\n",
    "        for i,v in enumerate(tokens):\n",
    "            if v>0:\n",
    "                return i\n",
    "    else:\n",
    "        return -1\n",
    "get_winner([0,2,0,0])"
   ]
  },
  {
   "cell_type": "markdown",
   "metadata": {},
   "source": [
    "## Simulate a game"
   ]
  },
  {
   "cell_type": "code",
   "execution_count": 139,
   "metadata": {},
   "outputs": [
    {
     "name": "stdout",
     "output_type": "stream",
     "text": [
      "1: player 0 rolls ['o', 'right', 'o'] --> [2, 4, 3]\n",
      "2: player 1 rolls ['left', 'o', 'o'] --> [3, 3, 3]\n",
      "3: player 2 rolls ['*', 'right', 'o'] --> [4, 3, 1]\n",
      "4: player 0 rolls ['o', 'o', '*'] --> [3, 3, 1]\n",
      "5: player 1 rolls ['o', 'o', 'o'] --> [3, 3, 1]\n",
      "6: player 2 rolls ['o'] --> [3, 3, 1]\n",
      "7: player 0 rolls ['o', 'o', '*'] --> [2, 3, 1]\n",
      "8: player 1 rolls ['o', 'o', 'right'] --> [2, 2, 2]\n",
      "9: player 2 rolls ['o', 'o'] --> [2, 2, 2]\n",
      "10: player 0 rolls ['*', 'left'] --> [0, 2, 3]\n",
      "11: player 1 rolls ['left', 'o'] --> [1, 1, 3]\n",
      "12: player 2 rolls ['o', 'o', 'left'] --> [1, 2, 2]\n",
      "13: player 0 rolls ['*'] --> [0, 2, 2]\n",
      "14: player 1 rolls ['o', 'o'] --> [0, 2, 2]\n",
      "15: player 2 rolls ['left', 'o'] --> [0, 3, 1]\n",
      "16: player 0 rolls [] --> [0, 3, 1]\n",
      "17: player 1 rolls ['right', 'o', 'right'] --> [0, 1, 3]\n",
      "18: player 2 rolls ['o', 'right', 'right'] --> [2, 1, 1]\n",
      "19: player 0 rolls ['o', 'right'] --> [1, 2, 1]\n",
      "20: player 1 rolls ['o', 'left'] --> [2, 1, 1]\n",
      "21: player 2 rolls ['right'] --> [3, 1, 0]\n",
      "22: player 0 rolls ['o', 'right', 'o'] --> [2, 2, 0]\n",
      "23: player 1 rolls ['*', 'o'] --> [2, 1, 0]\n",
      "24: player 2 rolls [] --> [2, 1, 0]\n",
      "25: player 0 rolls ['right', 'right'] --> [0, 3, 0]\n",
      "3 players, 25 turns\n"
     ]
    },
    {
     "data": {
      "text/plain": [
       "(25, 1, [0, 3, 0])"
      ]
     },
     "execution_count": 139,
     "metadata": {},
     "output_type": "execute_result"
    }
   ],
   "source": [
    "def play(n_players=3,verbose=False):\n",
    "    active_player = -1\n",
    "    turn = 0\n",
    "    tokens = [3]*n_players\n",
    "\n",
    "    while not game_over(tokens):\n",
    "        turn += 1\n",
    "        active_player=(active_player+1)%n_players\n",
    "        # roll dice according to number of tokens\n",
    "        roll = get_roll(min(3,tokens[active_player]))\n",
    "        for d in roll:\n",
    "            if d == D:\n",
    "                pass\n",
    "            elif d == S:\n",
    "                # token goes into the center\n",
    "                tokens[active_player]-=1\n",
    "            elif d == L:\n",
    "                # player gives token to player on left\n",
    "                tokens[active_player]-=1\n",
    "                tokens[(active_player-1)%n_players]+=1\n",
    "            elif d == R:\n",
    "                # player gives token to player on right\n",
    "                tokens[active_player]-=1\n",
    "                tokens[(active_player+1)%n_players]+=1\n",
    "        if verbose: print(f'{turn}: player {active_player} rolls {roll} --> {tokens}')\n",
    "    if verbose:print(f'{n_players} players, {turn} turns')\n",
    "    return turn, get_winner(tokens), tokens\n",
    "play(n_players=3,verbose=True)"
   ]
  },
  {
   "cell_type": "markdown",
   "metadata": {},
   "source": [
    "## Run multiple game simulation"
   ]
  },
  {
   "cell_type": "code",
   "execution_count": 140,
   "metadata": {},
   "outputs": [
    {
     "name": "stdout",
     "output_type": "stream",
     "text": [
      "CPU times: user 2.46 s, sys: 9.37 ms, total: 2.47 s\n",
      "Wall time: 2.47 s\n"
     ]
    }
   ],
   "source": [
    "%%time\n",
    "n_games = int(1e4)\n",
    "n_players = 4\n",
    "t = []\n",
    "w = []\n",
    "k = []\n",
    "for _ in range(n_games):\n",
    "    turns, winner, tokens = play(n_players=n_players)\n",
    "    t.append(turns)\n",
    "    w.append(winner)\n",
    "    k.append(tokens)"
   ]
  },
  {
   "cell_type": "markdown",
   "metadata": {},
   "source": [
    "## Basic analysis"
   ]
  },
  {
   "cell_type": "code",
   "execution_count": 141,
   "metadata": {},
   "outputs": [
    {
     "name": "stdout",
     "output_type": "stream",
     "text": [
      "mean number of turns: 34.0316\n",
      "mean turns per player: 8.5079\n",
      "winner distribution: Counter({3: 2633, 2: 2560, 0: 2463, 1: 2344})\n",
      "mean ending number of tokens: 2.0452 (0.17043333333333333)\n"
     ]
    }
   ],
   "source": [
    "from statistics import mean\n",
    "mean_turns = mean(t)\n",
    "ending_tokens = [sum(l) for l in k]\n",
    "print(f'mean number of turns: {mean_turns}')\n",
    "print(f'mean turns per player: {mean_turns/n_players}')\n",
    "print(f'winner distribution: {Counter(w)}')\n",
    "print(f'mean ending number of tokens: {mean(ending_tokens)} ({mean(ending_tokens)/(n_players*3)})')"
   ]
  },
  {
   "cell_type": "markdown",
   "metadata": {},
   "source": [
    "## Analyze number of winner's tokens"
   ]
  },
  {
   "cell_type": "code",
   "execution_count": 142,
   "metadata": {},
   "outputs": [
    {
     "data": {
      "image/png": "[encoded data removed]",
      "text/plain": [
       "<matplotlib.figure.Figure at 0x11c21eac8>"
      ]
     },
     "metadata": {},
     "output_type": "display_data"
    },
    {
     "data": {
      "text/plain": [
       "<matplotlib.figure.Figure at 0x11b9c4e80>"
      ]
     },
     "metadata": {},
     "output_type": "display_data"
    },
    {
     "name": "stdout",
     "output_type": "stream",
     "text": [
      "Counter({2: 3829, 1: 3709, 3: 1468, 4: 565, 5: 245, 6: 120, 7: 43, 8: 15, 9: 5, 10: 1})\n"
     ]
    }
   ],
   "source": [
    "import matplotlib.pyplot as plt\n",
    "plt.hist(ending_tokens,bins=3*n_players)\n",
    "plt.figure(figsize=(20,6))\n",
    "plt.show()\n",
    "print(Counter(ending_tokens))"
   ]
  },
  {
   "cell_type": "markdown",
   "metadata": {},
   "source": [
    "## Analyze number of turns in the game"
   ]
  },
  {
   "cell_type": "code",
   "execution_count": 148,
   "metadata": {},
   "outputs": [
    {
     "data": {
      "image/png": "[encoded data removed]",
      "text/plain": [
       "<matplotlib.figure.Figure at 0x11c5b39b0>"
      ]
     },
     "metadata": {},
     "output_type": "display_data"
    },
    {
     "data": {
      "text/plain": [
       "<matplotlib.figure.Figure at 0x11c5b3a20>"
      ]
     },
     "metadata": {},
     "output_type": "display_data"
    }
   ],
   "source": [
    "import matplotlib.pyplot as plt\n",
    "plt.hist(t,bins=max(t))\n",
    "plt.figure(figsize=(20,6))\n",
    "plt.show()"
   ]
  },
  {
   "cell_type": "code",
   "execution_count": 144,
   "metadata": {},
   "outputs": [
    {
     "data": {
      "image/png": "[encoded data removed]",
      "text/plain": [
       "<matplotlib.figure.Figure at 0x11c1914a8>"
      ]
     },
     "metadata": {},
     "output_type": "display_data"
    },
    {
     "data": {
      "text/plain": [
       "<matplotlib.figure.Figure at 0x11bb3ed30>"
      ]
     },
     "metadata": {},
     "output_type": "display_data"
    }
   ],
   "source": [
    "import matplotlib.pyplot as plt\n",
    "plt.hist(t,cumulative=1)\n",
    "plt.figure(figsize=(20,6))\n",
    "plt.show()"
   ]
  },
  {
   "cell_type": "code",
   "execution_count": 145,
   "metadata": {},
   "outputs": [
    {
     "data": {
      "text/plain": [
       "Counter({5: 1,\n",
       "         6: 2,\n",
       "         7: 8,\n",
       "         8: 6,\n",
       "         9: 8,\n",
       "         10: 24,\n",
       "         11: 33,\n",
       "         12: 50,\n",
       "         13: 59,\n",
       "         14: 73,\n",
       "         15: 114,\n",
       "         16: 125,\n",
       "         17: 141,\n",
       "         18: 198,\n",
       "         19: 193,\n",
       "         20: 234,\n",
       "         21: 220,\n",
       "         22: 258,\n",
       "         23: 291,\n",
       "         24: 311,\n",
       "         25: 284,\n",
       "         26: 290,\n",
       "         27: 330,\n",
       "         28: 335,\n",
       "         29: 321,\n",
       "         30: 338,\n",
       "         31: 352,\n",
       "         32: 359,\n",
       "         33: 320,\n",
       "         34: 342,\n",
       "         35: 304,\n",
       "         36: 299,\n",
       "         37: 275,\n",
       "         38: 283,\n",
       "         39: 247,\n",
       "         40: 236,\n",
       "         41: 260,\n",
       "         42: 225,\n",
       "         43: 198,\n",
       "         44: 188,\n",
       "         45: 186,\n",
       "         46: 159,\n",
       "         47: 140,\n",
       "         48: 136,\n",
       "         49: 136,\n",
       "         50: 118,\n",
       "         51: 126,\n",
       "         52: 90,\n",
       "         53: 73,\n",
       "         54: 82,\n",
       "         55: 64,\n",
       "         56: 71,\n",
       "         57: 45,\n",
       "         58: 50,\n",
       "         59: 42,\n",
       "         60: 43,\n",
       "         61: 43,\n",
       "         62: 28,\n",
       "         63: 35,\n",
       "         64: 29,\n",
       "         65: 18,\n",
       "         66: 12,\n",
       "         67: 25,\n",
       "         68: 18,\n",
       "         69: 14,\n",
       "         70: 8,\n",
       "         71: 5,\n",
       "         72: 4,\n",
       "         73: 10,\n",
       "         74: 10,\n",
       "         75: 7,\n",
       "         76: 5,\n",
       "         77: 4,\n",
       "         78: 2,\n",
       "         79: 1,\n",
       "         80: 3,\n",
       "         81: 3,\n",
       "         83: 4,\n",
       "         84: 2,\n",
       "         86: 5,\n",
       "         87: 1,\n",
       "         88: 1,\n",
       "         90: 1,\n",
       "         92: 1,\n",
       "         93: 1,\n",
       "         94: 1,\n",
       "         95: 2,\n",
       "         98: 1})"
      ]
     },
     "execution_count": 145,
     "metadata": {},
     "output_type": "execute_result"
    }
   ],
   "source": [
    "turn_counts = Counter(t)\n",
    "turn_counts"
   ]
  },
  {
   "cell_type": "markdown",
   "metadata": {},
   "source": [
    "## Analyze distribution of winners"
   ]
  },
  {
   "cell_type": "code",
   "execution_count": 146,
   "metadata": {},
   "outputs": [
    {
     "data": {
      "image/png": "[encoded data removed]",
      "text/plain": [
       "<matplotlib.figure.Figure at 0x11c0700f0>"
      ]
     },
     "metadata": {},
     "output_type": "display_data"
    },
    {
     "data": {
      "text/plain": [
       "<matplotlib.figure.Figure at 0x11c15e470>"
      ]
     },
     "metadata": {},
     "output_type": "display_data"
    }
   ],
   "source": [
    "plt.hist(w,bins=n_players)\n",
    "plt.figure(figsize=(20,6))\n",
    "plt.show()"
   ]
  },
  {
   "cell_type": "code",
   "execution_count": 147,
   "metadata": {},
   "outputs": [
    {
     "data": {
      "text/plain": [
       "Counter({0: 2463, 1: 2344, 2: 2560, 3: 2633})"
      ]
     },
     "execution_count": 147,
     "metadata": {},
     "output_type": "execute_result"
    }
   ],
   "source": [
    "winner_counts = Counter(w)\n",
    "winner_counts"
   ]
  },
  {
   "cell_type": "code",
   "execution_count": null,
   "metadata": {
    "collapsed": true
   },
   "outputs": [],
   "source": []
  }
 ],
 "metadata": {
  "kernelspec": {
   "display_name": "Python 3",
   "language": "python",
   "name": "python3"
  },
  "language_info": {
   "codemirror_mode": {
    "name": "ipython",
    "version": 3
   },
   "file_extension": ".py",
   "mimetype": "text/x-python",
   "name": "python",
   "nbconvert_exporter": "python",
   "pygments_lexer": "ipython3",
   "version": "3.8.3"
  }
 },
 "nbformat": 4,
 "nbformat_minor": 2
}
